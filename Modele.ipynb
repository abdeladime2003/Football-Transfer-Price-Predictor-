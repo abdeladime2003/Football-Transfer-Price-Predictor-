{
 "cells": [
  {
   "cell_type": "code",
   "execution_count": 205,
   "metadata": {},
   "outputs": [],
   "source": [
    "import pandas as pd\n",
    "df=pd.read_csv(r\"C:\\Users\\Lenovo\\Desktop\\projet_baina\\nouveau_projet\\file (1).csv\")"
   ]
  },
  {
   "cell_type": "code",
   "execution_count": 206,
   "metadata": {},
   "outputs": [
    {
     "data": {
      "text/plain": [
       "(798, 20)"
      ]
     },
     "execution_count": 206,
     "metadata": {},
     "output_type": "execute_result"
    }
   ],
   "source": [
    "df.shape"
   ]
  },
  {
   "cell_type": "code",
   "execution_count": 207,
   "metadata": {},
   "outputs": [],
   "source": [
    "df1=df.copy()"
   ]
  },
  {
   "cell_type": "code",
   "execution_count": 208,
   "metadata": {},
   "outputs": [
    {
     "data": {
      "text/plain": [
       "(798, 20)"
      ]
     },
     "execution_count": 208,
     "metadata": {},
     "output_type": "execute_result"
    }
   ],
   "source": [
    "df1=df1.drop_duplicates()\n",
    "df1=df1.reset_index(drop=True)\n",
    "df1.shape"
   ]
  },
  {
   "cell_type": "code",
   "execution_count": 209,
   "metadata": {},
   "outputs": [],
   "source": [
    "df1=df1.drop([\"Unnamed: 0\",\"country_from\",\"country_to\"],axis=1)"
   ]
  },
  {
   "cell_type": "markdown",
   "metadata": {},
   "source": [
    "dropithom hyt db matalan country from rah kata3tyna nefs ma3loma d dawru , 2la 3rfna rah msha preimier league donc rah msha l england . hyt kol dawla fyha ghy dwru wahd "
   ]
  },
  {
   "cell_type": "code",
   "execution_count": 210,
   "metadata": {},
   "outputs": [
    {
     "data": {
      "text/plain": [
       "array([15, 12, 11, 10,  9,  8,  7,  6,  5,  4,  3,  2,  1], dtype=int64)"
      ]
     },
     "execution_count": 210,
     "metadata": {},
     "output_type": "execute_result"
    }
   ],
   "source": [
    "occurrences_clubs = df1[\"club_from\"].value_counts().unique()\n",
    "occurrences_clubs"
   ]
  },
  {
   "cell_type": "code",
   "execution_count": 211,
   "metadata": {},
   "outputs": [
    {
     "data": {
      "text/plain": [
       "array(['Borussia Dortmund', 'Ajax Amsterdam', 'Leicester City',\n",
       "       'AS Monaco', 'Real Madrid', 'Real Sociedad', 'Juventus FC',\n",
       "       'Manchester City', 'Liverpool FC', 'Chelsea FC',\n",
       "       'Brighton & Hove Albion', 'ACF Fiorentina', 'Sevilla FC',\n",
       "       'Leeds United', 'Everton FC', 'SL Benfica', 'SSC Napoli',\n",
       "       'Atalanta BC', 'Valencia CF', 'Manchester United', 'Bayern Munich',\n",
       "       'Sporting CP', 'AC Milan', 'CA River Plate', 'Olympique Lyon',\n",
       "       'OGC Nice', 'FC Porto', 'LOSC Lille', 'Club Brugge KV',\n",
       "       'Torino FC', 'Stade Rennais FC', 'Red Bull Salzburg',\n",
       "       'SC Freiburg', 'Tottenham Hotspur', 'US Sassuolo', 'Fulham FC',\n",
       "       'Atlético de Madrid', 'RB Leipzig', 'Wolverhampton Wanderers',\n",
       "       'Stade Reims', 'SS Lazio', 'VfL Wolfsburg', 'TSG 1899 Hoffenheim',\n",
       "       'Feyenoord Rotterdam', 'VfB Stuttgart', 'Arsenal FC',\n",
       "       'RCD Espanyol Barcelona', 'Olympique Marseille', 'Burnley FC',\n",
       "       'Eintracht Frankfurt', 'Rangers FC', 'RC Lens',\n",
       "       'Manchester City U21', 'Paris Saint-Germain', 'AS Roma',\n",
       "       'Southampton FC', 'US Salernitana 1919', '1.FC Union Berlin',\n",
       "       'SC Braga', 'Udinese Calcio', 'FC Barcelona', 'UD Almería',\n",
       "       'SK Sturm Graz', 'Villarreal CF', 'Shakhtar Donetsk',\n",
       "       'AC Sparta Prague', 'Hellas Verona', 'Brentford FC', 'Inter Milan',\n",
       "       'Bologna FC 1909', 'KV Oostende', 'Watford FC', 'Aston Villa',\n",
       "       'Celta de Vigo', '1.FSV Mainz 05', 'Borussia Mönchengladbach',\n",
       "       'West Ham United', 'Cagliari Calcio', 'Getafe CF', 'FC Nantes',\n",
       "       'Zenit St. Petersburg', 'Portimonense SC', 'UC Sampdoria',\n",
       "       'Dinamo Batumi', 'Middlesbrough FC', 'Los Angeles FC',\n",
       "       'Clermont Foot 63', 'Galatasaray', 'Dynamo Moscow', 'FC Empoli',\n",
       "       '1.FC Köln', 'Al-Rayyan SC', 'FC Groningen', 'Lokomotiv Moscow',\n",
       "       'CA Peñarol', 'Granada CF', 'Fluminense Football Club',\n",
       "       'Sociedade Esportiva Palmeiras', 'AZ Alkmaar', 'Angers SCO',\n",
       "       'Hertha BSC', 'West Bromwich Albion', 'New York City FC',\n",
       "       'Club Libertad Asunción', 'Grêmio Foot-Ball Porto Alegrense',\n",
       "       'Olympiacos Piraeus', 'Swansea City', 'São Paulo Futebol Clube',\n",
       "       'RSC Anderlecht', 'Lech Poznan', 'ESTAC Troyes', 'KRC Genk',\n",
       "       'FC Schalke 04', 'FC Zürich', 'PSV Eindhoven', 'FK Rostov',\n",
       "       'Besiktas JK', 'Sport Club Corinthians Paulista', 'Trabzonspor',\n",
       "       'Club Atlético Lanús', 'Huddersfield Town', 'Chicago Fire FC',\n",
       "       'New England Revolution', 'GNK Dinamo Zagreb', 'FC Augsburg',\n",
       "       'Newcastle United', 'Athletic Bilbao', 'Spezia Calcio',\n",
       "       'FC Toulouse', 'SK Slavia Prague', 'Vitória Guimarães SC',\n",
       "       'FC Nordsjaelland', 'Santos FC', 'Bayer 04 Leverkusen',\n",
       "       'Arminia Bielefeld', 'Rubin Kazan', 'AS Saint-Étienne',\n",
       "       'Levante UD', 'Servette FC', 'Toronto FC', 'Spartak Moscow',\n",
       "       'Norwich City', 'Al-Ahli SFC', 'FC Utrecht', 'FC Lorient',\n",
       "       'CR Flamengo', 'Al-Arabi SC', 'Gil Vicente FC', 'BSC Young Boys',\n",
       "       'CA Banfield', 'FC Metz', 'Al-Duhail SC', 'FC Girondins Bordeaux',\n",
       "       'RC Strasbourg Alsace', 'Tigres UANL', 'Reading FC', 'Junior FC',\n",
       "       'Clube Atlético Mineiro', 'Boavista FC', 'Zamalek SC',\n",
       "       \"CA Newell's Old Boys\", 'Millwall FC', 'Montpellier HSC',\n",
       "       'FC Crotone', 'FK Bodø/Glimt', 'Rapid Vienna',\n",
       "       'AA Argentinos Juniors', 'CD Cruz Azul', 'Real Madrid Castilla',\n",
       "       'FC Copenhagen', 'Crystal Palace', 'Al-Nassr FC', 'Malmö FF',\n",
       "       'FK Ufa', 'Real Betis Balompié', 'Pisa Sporting Club',\n",
       "       'Fenerbahce', 'Sheffield United', 'R Charleroi SC', 'KAA Gent',\n",
       "       'Club León FC', 'Union Saint-Gilloise', 'Le Havre AC',\n",
       "       'Hammarby IF', 'Elche CF', 'CF Monterrey', 'FCSB',\n",
       "       'CA Boca Juniors', 'Genoa CFC', 'FC Midtjylland',\n",
       "       'Racing Santander', 'Venezia FC', 'CF América',\n",
       "       'Aris Thessaloniki', 'Nottingham Forest', 'FC Barcelona Atlètic',\n",
       "       'Aberdeen FC', 'SM Caen', 'FC Paços de Ferreira', 'CD Santa Clara',\n",
       "       'VfL Bochum', 'Standard Liège', 'HNK Hajduk Split', 'Konyaspor',\n",
       "       'FK Krasnodar', 'Atlanta United FC', 'Derby County',\n",
       "       'Shanghai Port', 'Deportivo Alavés', 'Parma Calcio 1913',\n",
       "       'Manchester United U21', 'Vitesse Arnhem', 'Chelsea FC U21',\n",
       "       'LDU Quito', 'AIK', 'Coritiba Foot Ball Club', 'SD Eibar',\n",
       "       'FC Sochi', 'Benevento Calcio', 'Club Estudiantes de La Plata',\n",
       "       'Lommel SK', 'Atlético de San Luis', 'Al-Wahda FC',\n",
       "       'Club Nacional', 'Atlético Nacional', 'CA San Lorenzo de Almagro',\n",
       "       'Antalyaspor', 'Club Deportivo Maldonado', 'UNAM Pumas',\n",
       "       'Racing Club', 'SD Huesca', 'Fortaleza Esporte Clube',\n",
       "       'Santos Laguna', 'Cádiz CF', 'Hatayspor', 'FC Sheriff Tiraspol',\n",
       "       'Inter Miami CF', 'CD Universidad Católica',\n",
       "       'Independiente del Valle', 'Defensa y Justicia', 'Club Tijuana',\n",
       "       'Kasimpasa', 'GD Estoril Praia', 'ASEC Mimosas',\n",
       "       'Red Bull Bragantino', 'Krylya Sovetov Samara', 'Royal Antwerp FC',\n",
       "       'FK Partizan Belgrade', 'Austin FC', 'Club Athletico Paranaense',\n",
       "       'Vancouver Whitecaps FC', 'Deportivo Toluca', 'CA Independiente',\n",
       "       'Aarhus GF', 'Sporting Gijón', 'Club Guaraní', 'AEK Athens',\n",
       "       'FC Basel 1893', 'Sporting CP U17', 'Sharjah FC', 'Mazatlán FC',\n",
       "       'Fatih Karagümrük', 'Sport Club Internacional',\n",
       "       'Sport Club do Recife', 'UD Las Palmas'], dtype=object)"
      ]
     },
     "execution_count": 211,
     "metadata": {},
     "output_type": "execute_result"
    }
   ],
   "source": [
    "df1[\"club_from\"].unique()"
   ]
  },
  {
   "cell_type": "code",
   "execution_count": 212,
   "metadata": {},
   "outputs": [],
   "source": [
    "colonnes_categorielles1 = ['league_from', 'league_to']\n",
    "\n",
    "for colonne in colonnes_categorielles1:\n",
    "    counts = df1[colonne].value_counts()\n",
    "    categories_autre = counts[counts <4].index.tolist()\n",
    "    df1[colonne] = df1[colonne].apply(lambda x: 'Autre' if x in categories_autre else x)\n",
    "colonnes_categorielles2= ['club_to', 'club_from']\n",
    "for colonne in colonnes_categorielles2:\n",
    "    counts = df1[colonne].value_counts()\n",
    "    categories_autre = counts[counts < 11].index.tolist()\n",
    "    if 'Saudi Pro League' in categories_autre:\n",
    "        categories_autre.remove('Saudi Pro League')\n",
    "    \n",
    "    df1[colonne] = df1[colonne].apply(lambda x: 'Autre' if x in categories_autre else x)\n",
    "\n",
    "df_encoded = pd.get_dummies(df1, columns=colonnes_categorielles1 + colonnes_categorielles2 + ['position'] + ['loan'], dtype=int)"
   ]
  },
  {
   "cell_type": "code",
   "execution_count": 213,
   "metadata": {},
   "outputs": [
    {
     "data": {
      "text/plain": [
       "(798, 93)"
      ]
     },
     "execution_count": 213,
     "metadata": {},
     "output_type": "execute_result"
    }
   ],
   "source": [
    "df_encoded.shape"
   ]
  },
  {
   "cell_type": "code",
   "execution_count": 214,
   "metadata": {},
   "outputs": [],
   "source": [
    "df_encoded[\"fee\"] = df_encoded[\"fee\"].str.replace('k', '')\n",
    "df_encoded[\"fee\"]=df_encoded[\"fee\"].astype(float)\n",
    "df_encoded[\"market_value\"] = df_encoded[\"market_value\"].str.replace('k', '')\n",
    "df_encoded[\"market_value\"]=df_encoded[\"market_value\"].astype(float)"
   ]
  },
  {
   "cell_type": "code",
   "execution_count": 215,
   "metadata": {},
   "outputs": [],
   "source": [
    "df_encoded=df_encoded.dropna()\n",
    "df_encoded=df_encoded.drop_duplicates()"
   ]
  },
  {
   "cell_type": "code",
   "execution_count": 216,
   "metadata": {},
   "outputs": [
    {
     "data": {
      "text/html": [
       "<div>\n",
       "<style scoped>\n",
       "    .dataframe tbody tr th:only-of-type {\n",
       "        vertical-align: middle;\n",
       "    }\n",
       "\n",
       "    .dataframe tbody tr th {\n",
       "        vertical-align: top;\n",
       "    }\n",
       "\n",
       "    .dataframe thead th {\n",
       "        text-align: right;\n",
       "    }\n",
       "</style>\n",
       "<table border=\"1\" class=\"dataframe\">\n",
       "  <thead>\n",
       "    <tr style=\"text-align: right;\">\n",
       "      <th></th>\n",
       "      <th>ATT</th>\n",
       "      <th>SKI</th>\n",
       "      <th>MOV</th>\n",
       "      <th>POW</th>\n",
       "      <th>MEN</th>\n",
       "      <th>DEF</th>\n",
       "      <th>GK</th>\n",
       "    </tr>\n",
       "  </thead>\n",
       "  <tbody>\n",
       "    <tr>\n",
       "      <th>ATT</th>\n",
       "      <td>1.000000</td>\n",
       "      <td>0.906219</td>\n",
       "      <td>0.653273</td>\n",
       "      <td>0.827636</td>\n",
       "      <td>0.840280</td>\n",
       "      <td>0.157337</td>\n",
       "      <td>0.783897</td>\n",
       "    </tr>\n",
       "    <tr>\n",
       "      <th>SKI</th>\n",
       "      <td>0.906219</td>\n",
       "      <td>1.000000</td>\n",
       "      <td>0.699717</td>\n",
       "      <td>0.714497</td>\n",
       "      <td>0.872538</td>\n",
       "      <td>0.285973</td>\n",
       "      <td>0.753965</td>\n",
       "    </tr>\n",
       "    <tr>\n",
       "      <th>MOV</th>\n",
       "      <td>0.653273</td>\n",
       "      <td>0.699717</td>\n",
       "      <td>1.000000</td>\n",
       "      <td>0.507865</td>\n",
       "      <td>0.559894</td>\n",
       "      <td>0.076811</td>\n",
       "      <td>0.563624</td>\n",
       "    </tr>\n",
       "    <tr>\n",
       "      <th>POW</th>\n",
       "      <td>0.827636</td>\n",
       "      <td>0.714497</td>\n",
       "      <td>0.507865</td>\n",
       "      <td>1.000000</td>\n",
       "      <td>0.781490</td>\n",
       "      <td>0.206922</td>\n",
       "      <td>0.603301</td>\n",
       "    </tr>\n",
       "    <tr>\n",
       "      <th>MEN</th>\n",
       "      <td>0.840280</td>\n",
       "      <td>0.872538</td>\n",
       "      <td>0.559894</td>\n",
       "      <td>0.781490</td>\n",
       "      <td>1.000000</td>\n",
       "      <td>0.528228</td>\n",
       "      <td>0.727101</td>\n",
       "    </tr>\n",
       "    <tr>\n",
       "      <th>DEF</th>\n",
       "      <td>0.157337</td>\n",
       "      <td>0.285973</td>\n",
       "      <td>0.076811</td>\n",
       "      <td>0.206922</td>\n",
       "      <td>0.528228</td>\n",
       "      <td>1.000000</td>\n",
       "      <td>0.444797</td>\n",
       "    </tr>\n",
       "    <tr>\n",
       "      <th>GK</th>\n",
       "      <td>0.783897</td>\n",
       "      <td>0.753965</td>\n",
       "      <td>0.563624</td>\n",
       "      <td>0.603301</td>\n",
       "      <td>0.727101</td>\n",
       "      <td>0.444797</td>\n",
       "      <td>1.000000</td>\n",
       "    </tr>\n",
       "  </tbody>\n",
       "</table>\n",
       "</div>"
      ],
      "text/plain": [
       "          ATT       SKI       MOV       POW       MEN       DEF        GK\n",
       "ATT  1.000000  0.906219  0.653273  0.827636  0.840280  0.157337  0.783897\n",
       "SKI  0.906219  1.000000  0.699717  0.714497  0.872538  0.285973  0.753965\n",
       "MOV  0.653273  0.699717  1.000000  0.507865  0.559894  0.076811  0.563624\n",
       "POW  0.827636  0.714497  0.507865  1.000000  0.781490  0.206922  0.603301\n",
       "MEN  0.840280  0.872538  0.559894  0.781490  1.000000  0.528228  0.727101\n",
       "DEF  0.157337  0.285973  0.076811  0.206922  0.528228  1.000000  0.444797\n",
       "GK   0.783897  0.753965  0.563624  0.603301  0.727101  0.444797  1.000000"
      ]
     },
     "execution_count": 216,
     "metadata": {},
     "output_type": "execute_result"
    }
   ],
   "source": [
    "df_encoded.iloc[:,4:11].corr().abs()"
   ]
  },
  {
   "cell_type": "code",
   "execution_count": 217,
   "metadata": {},
   "outputs": [],
   "source": [
    "df_encoded=df_encoded.reset_index(drop=True)"
   ]
  },
  {
   "cell_type": "code",
   "execution_count": 218,
   "metadata": {},
   "outputs": [
    {
     "name": "stdout",
     "output_type": "stream",
     "text": [
      "Mean Squared Error: 5298.8040195393505\n",
      "Mean Absolute Error: 46.52315498475019\n"
     ]
    }
   ],
   "source": [
    "from sklearn.linear_model import LinearRegression \n",
    "from sklearn.metrics import mean_squared_error , mean_absolute_error\n",
    "from sklearn.model_selection import train_test_split\n",
    "reg=LinearRegression()\n",
    "X=df_encoded.drop([\"fee\",\"name\"],axis=1)\n",
    "y=df_encoded[\"fee\"]\n",
    "X_train,X_test,y_train,y_test=train_test_split(X,y,test_size=0.2,random_state=1937)\n",
    "reg.fit(X_train,y_train)\n",
    "y_pred = reg.predict(X_test)\n",
    "mse = mean_squared_error(y_test, y_pred)\n",
    "mae = mean_absolute_error(y_test, y_pred)\n",
    "print(\"Mean Squared Error:\", mse)\n",
    "print(\"Mean Absolute Error:\", mae)\n"
   ]
  },
  {
   "cell_type": "code",
   "execution_count": 219,
   "metadata": {},
   "outputs": [
    {
     "name": "stdout",
     "output_type": "stream",
     "text": [
      "Mean Squared Error: 4321.5589591766975\n",
      "Mean Absolute Error: 37.11408750795968\n",
      "Best alpha found: 10\n"
     ]
    }
   ],
   "source": [
    "from sklearn.linear_model import Ridge\n",
    "from sklearn.metrics import mean_squared_error, mean_absolute_error\n",
    "from sklearn.model_selection import train_test_split, GridSearchCV\n",
    "from sklearn.decomposition import PCA\n",
    "X = df_encoded.drop([\"fee\", \"name\"], axis=1)\n",
    "pca = PCA(n_components=10)  \n",
    "X_pca = pca.fit_transform(X)\n",
    "y = df_encoded[\"fee\"]\n",
    "X_train, X_test, y_train, y_test = train_test_split(X, y, test_size=0.2, random_state=1937)\n",
    "alphas = [0.001, 0.01, 0.1, 1, 10, 100]\n",
    "reg = Ridge()\n",
    "param_grid = {'alpha': alphas}\n",
    "grid_search = GridSearchCV(reg, param_grid, cv=5, scoring='neg_mean_squared_error')\n",
    "grid_search.fit(X_train, y_train)\n",
    "best_reg = grid_search.best_estimator_\n",
    "y_pred = best_reg.predict(X_test)\n",
    "mse = mean_squared_error(y_test, y_pred)\n",
    "mae = mean_absolute_error(y_test, y_pred)\n",
    "print(\"Mean Squared Error:\", mse)\n",
    "print(\"Mean Absolute Error:\", mae)\n",
    "print(\"Best alpha found:\", best_reg.alpha)"
   ]
  },
  {
   "cell_type": "code",
   "execution_count": 220,
   "metadata": {},
   "outputs": [
    {
     "data": {
      "text/html": [
       "<div>\n",
       "<style scoped>\n",
       "    .dataframe tbody tr th:only-of-type {\n",
       "        vertical-align: middle;\n",
       "    }\n",
       "\n",
       "    .dataframe tbody tr th {\n",
       "        vertical-align: top;\n",
       "    }\n",
       "\n",
       "    .dataframe thead th {\n",
       "        text-align: right;\n",
       "    }\n",
       "</style>\n",
       "<table border=\"1\" class=\"dataframe\">\n",
       "  <thead>\n",
       "    <tr style=\"text-align: right;\">\n",
       "      <th></th>\n",
       "      <th>ATT</th>\n",
       "      <th>SKI</th>\n",
       "      <th>MOV</th>\n",
       "      <th>POW</th>\n",
       "      <th>MEN</th>\n",
       "      <th>DEF</th>\n",
       "      <th>GK</th>\n",
       "    </tr>\n",
       "  </thead>\n",
       "  <tbody>\n",
       "    <tr>\n",
       "      <th>ATT</th>\n",
       "      <td>1.000000</td>\n",
       "      <td>0.906219</td>\n",
       "      <td>0.653273</td>\n",
       "      <td>0.827636</td>\n",
       "      <td>0.840280</td>\n",
       "      <td>0.157337</td>\n",
       "      <td>-0.783897</td>\n",
       "    </tr>\n",
       "    <tr>\n",
       "      <th>SKI</th>\n",
       "      <td>0.906219</td>\n",
       "      <td>1.000000</td>\n",
       "      <td>0.699717</td>\n",
       "      <td>0.714497</td>\n",
       "      <td>0.872538</td>\n",
       "      <td>0.285973</td>\n",
       "      <td>-0.753965</td>\n",
       "    </tr>\n",
       "    <tr>\n",
       "      <th>MOV</th>\n",
       "      <td>0.653273</td>\n",
       "      <td>0.699717</td>\n",
       "      <td>1.000000</td>\n",
       "      <td>0.507865</td>\n",
       "      <td>0.559894</td>\n",
       "      <td>0.076811</td>\n",
       "      <td>-0.563624</td>\n",
       "    </tr>\n",
       "    <tr>\n",
       "      <th>POW</th>\n",
       "      <td>0.827636</td>\n",
       "      <td>0.714497</td>\n",
       "      <td>0.507865</td>\n",
       "      <td>1.000000</td>\n",
       "      <td>0.781490</td>\n",
       "      <td>0.206922</td>\n",
       "      <td>-0.603301</td>\n",
       "    </tr>\n",
       "    <tr>\n",
       "      <th>MEN</th>\n",
       "      <td>0.840280</td>\n",
       "      <td>0.872538</td>\n",
       "      <td>0.559894</td>\n",
       "      <td>0.781490</td>\n",
       "      <td>1.000000</td>\n",
       "      <td>0.528228</td>\n",
       "      <td>-0.727101</td>\n",
       "    </tr>\n",
       "    <tr>\n",
       "      <th>DEF</th>\n",
       "      <td>0.157337</td>\n",
       "      <td>0.285973</td>\n",
       "      <td>0.076811</td>\n",
       "      <td>0.206922</td>\n",
       "      <td>0.528228</td>\n",
       "      <td>1.000000</td>\n",
       "      <td>-0.444797</td>\n",
       "    </tr>\n",
       "    <tr>\n",
       "      <th>GK</th>\n",
       "      <td>-0.783897</td>\n",
       "      <td>-0.753965</td>\n",
       "      <td>-0.563624</td>\n",
       "      <td>-0.603301</td>\n",
       "      <td>-0.727101</td>\n",
       "      <td>-0.444797</td>\n",
       "      <td>1.000000</td>\n",
       "    </tr>\n",
       "  </tbody>\n",
       "</table>\n",
       "</div>"
      ],
      "text/plain": [
       "          ATT       SKI       MOV       POW       MEN       DEF        GK\n",
       "ATT  1.000000  0.906219  0.653273  0.827636  0.840280  0.157337 -0.783897\n",
       "SKI  0.906219  1.000000  0.699717  0.714497  0.872538  0.285973 -0.753965\n",
       "MOV  0.653273  0.699717  1.000000  0.507865  0.559894  0.076811 -0.563624\n",
       "POW  0.827636  0.714497  0.507865  1.000000  0.781490  0.206922 -0.603301\n",
       "MEN  0.840280  0.872538  0.559894  0.781490  1.000000  0.528228 -0.727101\n",
       "DEF  0.157337  0.285973  0.076811  0.206922  0.528228  1.000000 -0.444797\n",
       "GK  -0.783897 -0.753965 -0.563624 -0.603301 -0.727101 -0.444797  1.000000"
      ]
     },
     "execution_count": 220,
     "metadata": {},
     "output_type": "execute_result"
    }
   ],
   "source": [
    "df_encoded.iloc[:,4:11].corr()"
   ]
  },
  {
   "cell_type": "code",
   "execution_count": 221,
   "metadata": {},
   "outputs": [
    {
     "name": "stdout",
     "output_type": "stream",
     "text": [
      "Mean Squared Error: 4248.738331819295\n",
      "Mean Absolute Error: 28.833730459637938\n",
      "Best alpha found: 5.492682386726116\n"
     ]
    }
   ],
   "source": [
    "from sklearn.linear_model import LassoCV\n",
    "from sklearn.metrics import mean_squared_error, mean_absolute_error\n",
    "from sklearn.model_selection import train_test_split\n",
    "from sklearn.preprocessing import StandardScaler\n",
    "X = df_encoded.drop([\"fee\", \"name\"], axis=1)\n",
    "y = df_encoded[\"fee\"]\n",
    "X_train, X_test, y_train, y_test = train_test_split(X, y, test_size=0.2, random_state=1937)\n",
    "scaler = StandardScaler()\n",
    "X_train_scaled = scaler.fit_transform(X_train)\n",
    "X_test_scaled = scaler.transform(X_test)\n",
    "\n",
    "lasso = LassoCV(cv=5, max_iter=10000)\n",
    "lasso.fit(X_train_scaled, y_train)\n",
    "\n",
    "y_pred = lasso.predict(X_test_scaled)\n",
    "mse = mean_squared_error(y_test, y_pred)\n",
    "mae = mean_absolute_error(y_test, y_pred)\n",
    "\n",
    "print(\"Mean Squared Error:\", mse)\n",
    "print(\"Mean Absolute Error:\", mae)\n",
    "print(\"Best alpha found:\", lasso.alpha_)\n"
   ]
  }
 ],
 "metadata": {
  "kernelspec": {
   "display_name": "Python 3",
   "language": "python",
   "name": "python3"
  },
  "language_info": {
   "codemirror_mode": {
    "name": "ipython",
    "version": 3
   },
   "file_extension": ".py",
   "mimetype": "text/x-python",
   "name": "python",
   "nbconvert_exporter": "python",
   "pygments_lexer": "ipython3",
   "version": "3.12.1"
  }
 },
 "nbformat": 4,
 "nbformat_minor": 2
}
