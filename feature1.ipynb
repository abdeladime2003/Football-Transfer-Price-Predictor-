{
 "cells": [
  {
   "cell_type": "code",
   "execution_count": 228,
   "metadata": {},
   "outputs": [],
   "source": [
    "import pandas\n",
    "df=pd.read_csv(r\"C:\\Users\\Lenovo\\Desktop\\projet_baina\\nouveau_projet\\file (1).csv\")"
   ]
  },
  {
   "cell_type": "code",
   "execution_count": 229,
   "metadata": {},
   "outputs": [
    {
     "data": {
      "text/plain": [
       "(798, 20)"
      ]
     },
     "execution_count": 229,
     "metadata": {},
     "output_type": "execute_result"
    }
   ],
   "source": [
    "df.shape"
   ]
  },
  {
   "cell_type": "code",
   "execution_count": 230,
   "metadata": {},
   "outputs": [],
   "source": [
    "df1=df.copy()"
   ]
  },
  {
   "cell_type": "code",
   "execution_count": 231,
   "metadata": {},
   "outputs": [
    {
     "data": {
      "text/plain": [
       "(798, 20)"
      ]
     },
     "execution_count": 231,
     "metadata": {},
     "output_type": "execute_result"
    }
   ],
   "source": [
    "df1=df1.drop_duplicates()\n",
    "df1=df1.reset_index(drop=True)\n",
    "df1.shape"
   ]
  },
  {
   "cell_type": "code",
   "execution_count": 232,
   "metadata": {},
   "outputs": [],
   "source": [
    "df1=df1.drop([\"Unnamed: 0\",\"country_from\",\"country_to\"],axis=1)"
   ]
  },
  {
   "cell_type": "markdown",
   "metadata": {},
   "source": [
    "dropithom hyt db matalan country from rah kata3tyna nefs ma3loma d dawru , 2la 3rfna rah msha preimier league donc rah msha l england . hyt kol dawla fyha ghy dwru wahd "
   ]
  },
  {
   "cell_type": "code",
   "execution_count": 233,
   "metadata": {},
   "outputs": [
    {
     "data": {
      "text/plain": [
       "array([15, 12, 11, 10,  9,  8,  7,  6,  5,  4,  3,  2,  1], dtype=int64)"
      ]
     },
     "execution_count": 233,
     "metadata": {},
     "output_type": "execute_result"
    }
   ],
   "source": [
    "occurrences_clubs = df1[\"club_from\"].value_counts().unique()\n",
    "occurrences_clubs"
   ]
  },
  {
   "cell_type": "code",
   "execution_count": 234,
   "metadata": {},
   "outputs": [
    {
     "data": {
      "text/plain": [
       "array(['Borussia Dortmund', 'Ajax Amsterdam', 'Leicester City',\n",
       "       'AS Monaco', 'Real Madrid', 'Real Sociedad', 'Juventus FC',\n",
       "       'Manchester City', 'Liverpool FC', 'Chelsea FC',\n",
       "       'Brighton & Hove Albion', 'ACF Fiorentina', 'Sevilla FC',\n",
       "       'Leeds United', 'Everton FC', 'SL Benfica', 'SSC Napoli',\n",
       "       'Atalanta BC', 'Valencia CF', 'Manchester United', 'Bayern Munich',\n",
       "       'Sporting CP', 'AC Milan', 'CA River Plate', 'Olympique Lyon',\n",
       "       'OGC Nice', 'FC Porto', 'LOSC Lille', 'Club Brugge KV',\n",
       "       'Torino FC', 'Stade Rennais FC', 'Red Bull Salzburg',\n",
       "       'SC Freiburg', 'Tottenham Hotspur', 'US Sassuolo', 'Fulham FC',\n",
       "       'Atlético de Madrid', 'RB Leipzig', 'Wolverhampton Wanderers',\n",
       "       'Stade Reims', 'SS Lazio', 'VfL Wolfsburg', 'TSG 1899 Hoffenheim',\n",
       "       'Feyenoord Rotterdam', 'VfB Stuttgart', 'Arsenal FC',\n",
       "       'RCD Espanyol Barcelona', 'Olympique Marseille', 'Burnley FC',\n",
       "       'Eintracht Frankfurt', 'Rangers FC', 'RC Lens',\n",
       "       'Manchester City U21', 'Paris Saint-Germain', 'AS Roma',\n",
       "       'Southampton FC', 'US Salernitana 1919', '1.FC Union Berlin',\n",
       "       'SC Braga', 'Udinese Calcio', 'FC Barcelona', 'UD Almería',\n",
       "       'SK Sturm Graz', 'Villarreal CF', 'Shakhtar Donetsk',\n",
       "       'AC Sparta Prague', 'Hellas Verona', 'Brentford FC', 'Inter Milan',\n",
       "       'Bologna FC 1909', 'KV Oostende', 'Watford FC', 'Aston Villa',\n",
       "       'Celta de Vigo', '1.FSV Mainz 05', 'Borussia Mönchengladbach',\n",
       "       'West Ham United', 'Cagliari Calcio', 'Getafe CF', 'FC Nantes',\n",
       "       'Zenit St. Petersburg', 'Portimonense SC', 'UC Sampdoria',\n",
       "       'Dinamo Batumi', 'Middlesbrough FC', 'Los Angeles FC',\n",
       "       'Clermont Foot 63', 'Galatasaray', 'Dynamo Moscow', 'FC Empoli',\n",
       "       '1.FC Köln', 'Al-Rayyan SC', 'FC Groningen', 'Lokomotiv Moscow',\n",
       "       'CA Peñarol', 'Granada CF', 'Fluminense Football Club',\n",
       "       'Sociedade Esportiva Palmeiras', 'AZ Alkmaar', 'Angers SCO',\n",
       "       'Hertha BSC', 'West Bromwich Albion', 'New York City FC',\n",
       "       'Club Libertad Asunción', 'Grêmio Foot-Ball Porto Alegrense',\n",
       "       'Olympiacos Piraeus', 'Swansea City', 'São Paulo Futebol Clube',\n",
       "       'RSC Anderlecht', 'Lech Poznan', 'ESTAC Troyes', 'KRC Genk',\n",
       "       'FC Schalke 04', 'FC Zürich', 'PSV Eindhoven', 'FK Rostov',\n",
       "       'Besiktas JK', 'Sport Club Corinthians Paulista', 'Trabzonspor',\n",
       "       'Club Atlético Lanús', 'Huddersfield Town', 'Chicago Fire FC',\n",
       "       'New England Revolution', 'GNK Dinamo Zagreb', 'FC Augsburg',\n",
       "       'Newcastle United', 'Athletic Bilbao', 'Spezia Calcio',\n",
       "       'FC Toulouse', 'SK Slavia Prague', 'Vitória Guimarães SC',\n",
       "       'FC Nordsjaelland', 'Santos FC', 'Bayer 04 Leverkusen',\n",
       "       'Arminia Bielefeld', 'Rubin Kazan', 'AS Saint-Étienne',\n",
       "       'Levante UD', 'Servette FC', 'Toronto FC', 'Spartak Moscow',\n",
       "       'Norwich City', 'Al-Ahli SFC', 'FC Utrecht', 'FC Lorient',\n",
       "       'CR Flamengo', 'Al-Arabi SC', 'Gil Vicente FC', 'BSC Young Boys',\n",
       "       'CA Banfield', 'FC Metz', 'Al-Duhail SC', 'FC Girondins Bordeaux',\n",
       "       'RC Strasbourg Alsace', 'Tigres UANL', 'Reading FC', 'Junior FC',\n",
       "       'Clube Atlético Mineiro', 'Boavista FC', 'Zamalek SC',\n",
       "       \"CA Newell's Old Boys\", 'Millwall FC', 'Montpellier HSC',\n",
       "       'FC Crotone', 'FK Bodø/Glimt', 'Rapid Vienna',\n",
       "       'AA Argentinos Juniors', 'CD Cruz Azul', 'Real Madrid Castilla',\n",
       "       'FC Copenhagen', 'Crystal Palace', 'Al-Nassr FC', 'Malmö FF',\n",
       "       'FK Ufa', 'Real Betis Balompié', 'Pisa Sporting Club',\n",
       "       'Fenerbahce', 'Sheffield United', 'R Charleroi SC', 'KAA Gent',\n",
       "       'Club León FC', 'Union Saint-Gilloise', 'Le Havre AC',\n",
       "       'Hammarby IF', 'Elche CF', 'CF Monterrey', 'FCSB',\n",
       "       'CA Boca Juniors', 'Genoa CFC', 'FC Midtjylland',\n",
       "       'Racing Santander', 'Venezia FC', 'CF América',\n",
       "       'Aris Thessaloniki', 'Nottingham Forest', 'FC Barcelona Atlètic',\n",
       "       'Aberdeen FC', 'SM Caen', 'FC Paços de Ferreira', 'CD Santa Clara',\n",
       "       'VfL Bochum', 'Standard Liège', 'HNK Hajduk Split', 'Konyaspor',\n",
       "       'FK Krasnodar', 'Atlanta United FC', 'Derby County',\n",
       "       'Shanghai Port', 'Deportivo Alavés', 'Parma Calcio 1913',\n",
       "       'Manchester United U21', 'Vitesse Arnhem', 'Chelsea FC U21',\n",
       "       'LDU Quito', 'AIK', 'Coritiba Foot Ball Club', 'SD Eibar',\n",
       "       'FC Sochi', 'Benevento Calcio', 'Club Estudiantes de La Plata',\n",
       "       'Lommel SK', 'Atlético de San Luis', 'Al-Wahda FC',\n",
       "       'Club Nacional', 'Atlético Nacional', 'CA San Lorenzo de Almagro',\n",
       "       'Antalyaspor', 'Club Deportivo Maldonado', 'UNAM Pumas',\n",
       "       'Racing Club', 'SD Huesca', 'Fortaleza Esporte Clube',\n",
       "       'Santos Laguna', 'Cádiz CF', 'Hatayspor', 'FC Sheriff Tiraspol',\n",
       "       'Inter Miami CF', 'CD Universidad Católica',\n",
       "       'Independiente del Valle', 'Defensa y Justicia', 'Club Tijuana',\n",
       "       'Kasimpasa', 'GD Estoril Praia', 'ASEC Mimosas',\n",
       "       'Red Bull Bragantino', 'Krylya Sovetov Samara', 'Royal Antwerp FC',\n",
       "       'FK Partizan Belgrade', 'Austin FC', 'Club Athletico Paranaense',\n",
       "       'Vancouver Whitecaps FC', 'Deportivo Toluca', 'CA Independiente',\n",
       "       'Aarhus GF', 'Sporting Gijón', 'Club Guaraní', 'AEK Athens',\n",
       "       'FC Basel 1893', 'Sporting CP U17', 'Sharjah FC', 'Mazatlán FC',\n",
       "       'Fatih Karagümrük', 'Sport Club Internacional',\n",
       "       'Sport Club do Recife', 'UD Las Palmas'], dtype=object)"
      ]
     },
     "execution_count": 234,
     "metadata": {},
     "output_type": "execute_result"
    }
   ],
   "source": [
    "df1[\"club_from\"].unique()"
   ]
  },
  {
   "cell_type": "code",
   "execution_count": 235,
   "metadata": {},
   "outputs": [],
   "source": [
    "colonnes_categorielles = ['league_from', 'club_from', 'league_to', 'club_to']\n",
    "\n",
    "for colonne in colonnes_categorielles:\n",
    "    counts = df1[colonne].value_counts()\n",
    "    categories_autre = counts[counts <5].index.tolist()\n",
    "    df1[colonne] = df1[colonne].apply(lambda x: 'Autre' if x in categories_autre else x)\n",
    "\n",
    "df_encoded = pd.get_dummies(df1, columns=colonnes_categorielles + ['position'] + ['loan'], dtype=int)\n"
   ]
  },
  {
   "cell_type": "code",
   "execution_count": 236,
   "metadata": {},
   "outputs": [
    {
     "data": {
      "text/plain": [
       "<Axes: >"
      ]
     },
     "execution_count": 236,
     "metadata": {},
     "output_type": "execute_result"
    },
    {
     "data": {
      "image/png": "[encoded data removed]",
      "text/plain": [
       "<Figure size 640x480 with 1 Axes>"
      ]
     },
     "metadata": {},
     "output_type": "display_data"
    }
   ],
   "source": [
    "df1[\"league_from\"].value_counts().hist()"
   ]
  },
  {
   "cell_type": "code",
   "execution_count": 237,
   "metadata": {},
   "outputs": [],
   "source": [
    "df_encoded[\"fee\"] = df_encoded[\"fee\"].str.replace('k', '')\n",
    "df_encoded[\"fee\"]=df_encoded[\"fee\"].astype(float)\n",
    "df_encoded[\"market_value\"] = df_encoded[\"market_value\"].str.replace('k', '')\n",
    "df_encoded[\"market_value\"]=df_encoded[\"market_value\"].astype(float)"
   ]
  },
  {
   "cell_type": "code",
   "execution_count": 242,
   "metadata": {},
   "outputs": [],
   "source": [
    "df_encoded=df_encoded.dropna()\n",
    "df_encoded=df_encoded.drop_duplicates()"
   ]
  },
  {
   "cell_type": "code",
   "execution_count": 247,
   "metadata": {},
   "outputs": [
    {
     "data": {
      "text/html": [
       "<style>#sk-container-id-2 {color: black;}#sk-container-id-2 pre{padding: 0;}#sk-container-id-2 div.sk-toggleable {background-color: white;}#sk-container-id-2 label.sk-toggleable__label {cursor: pointer;display: block;width: 100%;margin-bottom: 0;padding: 0.3em;box-sizing: border-box;text-align: center;}#sk-container-id-2 label.sk-toggleable__label-arrow:before {content: \"▸\";float: left;margin-right: 0.25em;color: #696969;}#sk-container-id-2 label.sk-toggleable__label-arrow:hover:before {color: black;}#sk-container-id-2 div.sk-estimator:hover label.sk-toggleable__label-arrow:before {color: black;}#sk-container-id-2 div.sk-toggleable__content {max-height: 0;max-width: 0;overflow: hidden;text-align: left;background-color: #f0f8ff;}#sk-container-id-2 div.sk-toggleable__content pre {margin: 0.2em;color: black;border-radius: 0.25em;background-color: #f0f8ff;}#sk-container-id-2 input.sk-toggleable__control:checked~div.sk-toggleable__content {max-height: 200px;max-width: 100%;overflow: auto;}#sk-container-id-2 input.sk-toggleable__control:checked~label.sk-toggleable__label-arrow:before {content: \"▾\";}#sk-container-id-2 div.sk-estimator input.sk-toggleable__control:checked~label.sk-toggleable__label {background-color: #d4ebff;}#sk-container-id-2 div.sk-label input.sk-toggleable__control:checked~label.sk-toggleable__label {background-color: #d4ebff;}#sk-container-id-2 input.sk-hidden--visually {border: 0;clip: rect(1px 1px 1px 1px);clip: rect(1px, 1px, 1px, 1px);height: 1px;margin: -1px;overflow: hidden;padding: 0;position: absolute;width: 1px;}#sk-container-id-2 div.sk-estimator {font-family: monospace;background-color: #f0f8ff;border: 1px dotted black;border-radius: 0.25em;box-sizing: border-box;margin-bottom: 0.5em;}#sk-container-id-2 div.sk-estimator:hover {background-color: #d4ebff;}#sk-container-id-2 div.sk-parallel-item::after {content: \"\";width: 100%;border-bottom: 1px solid gray;flex-grow: 1;}#sk-container-id-2 div.sk-label:hover label.sk-toggleable__label {background-color: #d4ebff;}#sk-container-id-2 div.sk-serial::before {content: \"\";position: absolute;border-left: 1px solid gray;box-sizing: border-box;top: 0;bottom: 0;left: 50%;z-index: 0;}#sk-container-id-2 div.sk-serial {display: flex;flex-direction: column;align-items: center;background-color: white;padding-right: 0.2em;padding-left: 0.2em;position: relative;}#sk-container-id-2 div.sk-item {position: relative;z-index: 1;}#sk-container-id-2 div.sk-parallel {display: flex;align-items: stretch;justify-content: center;background-color: white;position: relative;}#sk-container-id-2 div.sk-item::before, #sk-container-id-2 div.sk-parallel-item::before {content: \"\";position: absolute;border-left: 1px solid gray;box-sizing: border-box;top: 0;bottom: 0;left: 50%;z-index: -1;}#sk-container-id-2 div.sk-parallel-item {display: flex;flex-direction: column;z-index: 1;position: relative;background-color: white;}#sk-container-id-2 div.sk-parallel-item:first-child::after {align-self: flex-end;width: 50%;}#sk-container-id-2 div.sk-parallel-item:last-child::after {align-self: flex-start;width: 50%;}#sk-container-id-2 div.sk-parallel-item:only-child::after {width: 0;}#sk-container-id-2 div.sk-dashed-wrapped {border: 1px dashed gray;margin: 0 0.4em 0.5em 0.4em;box-sizing: border-box;padding-bottom: 0.4em;background-color: white;}#sk-container-id-2 div.sk-label label {font-family: monospace;font-weight: bold;display: inline-block;line-height: 1.2em;}#sk-container-id-2 div.sk-label-container {text-align: center;}#sk-container-id-2 div.sk-container {/* jupyter's `normalize.less` sets `[hidden] { display: none; }` but bootstrap.min.css set `[hidden] { display: none !important; }` so we also need the `!important` here to be able to override the default hidden behavior on the sphinx rendered scikit-learn.org. See: https://github.com/scikit-learn/scikit-learn/issues/21755 */display: inline-block !important;position: relative;}#sk-container-id-2 div.sk-text-repr-fallback {display: none;}</style><div id=\"sk-container-id-2\" class=\"sk-top-container\"><div class=\"sk-text-repr-fallback\"><pre>LinearRegression()</pre><b>In a Jupyter environment, please rerun this cell to show the HTML representation or trust the notebook. <br />On GitHub, the HTML representation is unable to render, please try loading this page with nbviewer.org.</b></div><div class=\"sk-container\" hidden><div class=\"sk-item\"><div class=\"sk-estimator sk-toggleable\"><input class=\"sk-toggleable__control sk-hidden--visually\" id=\"sk-estimator-id-2\" type=\"checkbox\" checked><label for=\"sk-estimator-id-2\" class=\"sk-toggleable__label sk-toggleable__label-arrow\">LinearRegression</label><div class=\"sk-toggleable__content\"><pre>LinearRegression()</pre></div></div></div></div></div>"
      ],
      "text/plain": [
       "LinearRegression()"
      ]
     },
     "execution_count": 247,
     "metadata": {},
     "output_type": "execute_result"
    }
   ],
   "source": [
    "from sklearn.linear_model import LinearRegression \n",
    "from sklearn.metrics import mean_squared_error , mean_absolute_error\n",
    "from sklearn.model_selection import train_test_split\n",
    "reg=LinearRegression()\n",
    "X=df_encoded.drop([\"fee\",\"name\"],axis=1)\n",
    "y=df_encoded[\"fee\"]\n",
    "X_train,X_test,y_train,y_test=train_test_split(X,y,test_size=0.2,random_state=1937)\n",
    "reg.fit(X_train,y_train)"
   ]
  },
  {
   "cell_type": "code",
   "execution_count": 248,
   "metadata": {},
   "outputs": [
    {
     "name": "stdout",
     "output_type": "stream",
     "text": [
      "Mean Squared Error: 2.8384709176835514e+21\n",
      "Mean Absolute Error: 5813030302.370015\n"
     ]
    }
   ],
   "source": [
    "y_pred = reg.predict(X_test)\n",
    "mse = mean_squared_error(y_test, y_pred)\n",
    "mae = mean_absolute_error(y_test, y_pred)\n",
    "print(\"Mean Squared Error:\", mse)\n",
    "print(\"Mean Absolute Error:\", mae)\n"
   ]
  },
  {
   "cell_type": "code",
   "execution_count": 264,
   "metadata": {},
   "outputs": [
    {
     "name": "stdout",
     "output_type": "stream",
     "text": [
      "Mean Squared Error: 4349.546846976118\n",
      "Mean Absolute Error: 32.796402753633224\n"
     ]
    }
   ],
   "source": [
    "from sklearn.linear_model import Ridge\n",
    "from sklearn.metrics import mean_squared_error, mean_absolute_error\n",
    "from sklearn.model_selection import train_test_split, GridSearchCV\n",
    "\n",
    "# Séparer les données en ensembles d'entraînement et de test\n",
    "X = df_encoded.drop([\"fee\", \"name\"], axis=1)\n",
    "y = df_encoded[\"fee\"]\n",
    "X_train, X_test, y_train, y_test = train_test_split(X, y, test_size=0.2, random_state=1937)\n",
    "\n",
    "# Définir les valeurs de alpha à tester\n",
    "alphas = [0.001, 0.01, 0.1, 1, 10, 100]\n",
    "\n",
    "reg = Ridge()\n",
    "\n",
    "param_grid = {'alpha': alphas}\n",
    "\n",
    "grid_search = GridSearchCV(reg, param_grid, cv=5, scoring='neg_mean_squared_error')\n",
    "\n",
    "grid_search.fit(X_train, y_train)\n",
    "\n",
    "best_reg = grid_search.best_estimator_\n",
    "\n",
    "y_pred = best_reg.predict(X_test)\n",
    "mse = mean_squared_error(y_test, y_pred)\n",
    "mae = mean_absolute_error(y_test, y_pred)\n",
    "\n",
    "# Afficher les résultats\n",
    "print(\"Mean Squared Error:\", mse)\n",
    "print(\"Mean Absolute Error:\", mae)\n",
    "print(\"Best alpha found:\", best_reg.alpha)\n"
   ]
  }
 ],
 "metadata": {
  "kernelspec": {
   "display_name": "Python 3",
   "language": "python",
   "name": "python3"
  },
  "language_info": {
   "codemirror_mode": {
    "name": "ipython",
    "version": 3
   },
   "file_extension": ".py",
   "mimetype": "text/x-python",
   "name": "python",
   "nbconvert_exporter": "python",
   "pygments_lexer": "ipython3",
   "version": "3.12.1"
  }
 },
 "nbformat": 4,
 "nbformat_minor": 2
}
