{
  "cells": [
    {
      "cell_type": "code",
      "execution_count": 1,
      "metadata": {
        "id": "YYbSa07qh-Km"
      },
      "outputs": [],
      "source": [
        "from sklearn.linear_model import LinearRegression, Ridge, LassoCV\n",
        "from sklearn.metrics import mean_squared_error, mean_absolute_error\n",
        "from sklearn.model_selection import train_test_split, GridSearchCV\n",
        "from sklearn.decomposition import PCA\n",
        "from sklearn.preprocessing import StandardScaler\n",
        "from sklearn.model_selection import cross_val_score\n",
        "from sklearn.metrics import make_scorer\n",
        "import pandas as pd\n",
        "import numpy as np"
      ]
    },
    {
      "cell_type": "code",
      "execution_count": 2,
      "metadata": {
        "id": "3XPF-yqMh-Kq"
      },
      "outputs": [],
      "source": [
        "df_encoded = pd.read_csv(r\"model_training_data.csv\")"
      ]
    },
    {
      "cell_type": "code",
      "execution_count": 3,
      "metadata": {
        "colab": {
          "base_uri": "https://localhost:8080/"
        },
        "id": "H0sZmGWih-Kr",
        "outputId": "f6834690-dab3-4059-fc61-ce87d572953e"
      },
      "outputs": [
        {
          "output_type": "stream",
          "name": "stdout",
          "text": [
            "Mean Squared Error: 5560591173.939842\n",
            "Mean Absolute Error: 26870.50777350266\n"
          ]
        }
      ],
      "source": [
        "reg = LinearRegression()\n",
        "\n",
        "\n",
        "X = df_encoded.drop([\"fee\", \"name\"], axis=1)\n",
        "y = df_encoded[\"fee\"]\n",
        "\n",
        "\n",
        "X_train,X_test,y_train,y_test=train_test_split(X, y, test_size=0.2, random_state=1937)\n",
        "reg.fit(X_train,y_train)\n",
        "\n",
        "\n",
        "y_pred = reg.predict(X_test)\n",
        "\n",
        "\n",
        "mse = mean_squared_error(y_test, y_pred)\n",
        "mae = mean_absolute_error(y_test, y_pred)\n",
        "print(\"Mean Squared Error:\", mse)\n",
        "print(\"Mean Absolute Error:\", mae)"
      ]
    },
    {
      "cell_type": "code",
      "execution_count": 4,
      "metadata": {
        "colab": {
          "base_uri": "https://localhost:8080/"
        },
        "id": "5q4_OvCmh-Ks",
        "outputId": "94dc9fe2-d7f7-4706-df14-6eff615dbf37"
      },
      "outputs": [
        {
          "output_type": "stream",
          "name": "stdout",
          "text": [
            "Mean Squared Error: 5552883959.338653\n",
            "Mean Absolute Error: 25785.488237618065\n",
            "Best alpha found: 100\n"
          ]
        }
      ],
      "source": [
        "X = df_encoded.drop([\"fee\", \"name\"], axis=1)\n",
        "pca = PCA(n_components=10)\n",
        "\n",
        "\n",
        "X_pca = pca.fit_transform(X)\n",
        "y = df_encoded[\"fee\"]\n",
        "\n",
        "\n",
        "X_train, X_test, y_train, y_test = train_test_split(X, y, test_size=0.2, random_state=1937)\n",
        "\n",
        "\n",
        "alphas = [0.001, 0.01, 0.1, 1, 10, 100]\n",
        "\n",
        "\n",
        "reg = Ridge()\n",
        "\n",
        "\n",
        "param_grid = {'alpha': alphas}\n",
        "grid_search = GridSearchCV(reg, param_grid, cv=5, scoring='neg_mean_squared_error')\n",
        "\n",
        "\n",
        "grid_search.fit(X_train, y_train)\n",
        "\n",
        "\n",
        "best_reg = grid_search.best_estimator_\n",
        "\n",
        "\n",
        "y_pred = best_reg.predict(X_test)\n",
        "\n",
        "\n",
        "mse = mean_squared_error(y_test, y_pred)\n",
        "mae = mean_absolute_error(y_test, y_pred)\n",
        "print(\"Mean Squared Error:\", mse)\n",
        "print(\"Mean Absolute Error:\", mae)\n",
        "print(\"Best alpha found:\", best_reg.alpha)"
      ]
    },
    {
      "cell_type": "code",
      "execution_count": 5,
      "metadata": {
        "colab": {
          "base_uri": "https://localhost:8080/"
        },
        "id": "AQ3rLMP5h-Kt",
        "outputId": "d80c1678-bae8-43e3-add6-0c09c5542aa5"
      },
      "outputs": [
        {
          "output_type": "stream",
          "name": "stdout",
          "text": [
            "Mean Squared Error: 5391943303.57895\n",
            "Mean Absolute Error: 26789.70051269288\n",
            "Best alpha found: 16461.373863941557\n"
          ]
        }
      ],
      "source": [
        "\n",
        "X = df_encoded.drop([\"fee\", \"name\"], axis=1)\n",
        "y = df_encoded[\"fee\"]\n",
        "\n",
        "\n",
        "X_train, X_test, y_train, y_test = train_test_split(X, y, test_size=0.2, random_state=1937)\n",
        "\n",
        "\n",
        "scaler = StandardScaler()\n",
        "X_train_scaled = scaler.fit_transform(X_train)\n",
        "X_test_scaled = scaler.transform(X_test)\n",
        "\n",
        "\n",
        "lasso = LassoCV(cv=5, max_iter=10000)\n",
        "lasso.fit(X_train_scaled, y_train)\n",
        "\n",
        "\n",
        "y_pred = lasso.predict(X_test_scaled)\n",
        "\n",
        "\n",
        "mse = mean_squared_error(y_test, y_pred)\n",
        "mae = mean_absolute_error(y_test, y_pred)\n",
        "print(\"Mean Squared Error:\", mse)\n",
        "print(\"Mean Absolute Error:\", mae)\n",
        "print(\"Best alpha found:\", lasso.alpha_)"
      ]
    }
  ],
  "metadata": {
    "kernelspec": {
      "display_name": "Python 3",
      "language": "python",
      "name": "python3"
    },
    "language_info": {
      "codemirror_mode": {
        "name": "ipython",
        "version": 3
      },
      "file_extension": ".py",
      "mimetype": "text/x-python",
      "name": "python",
      "nbconvert_exporter": "python",
      "pygments_lexer": "ipython3",
      "version": "3.12.1"
    },
    "colab": {
      "provenance": []
    }
  },
  "nbformat": 4,
  "nbformat_minor": 0
}