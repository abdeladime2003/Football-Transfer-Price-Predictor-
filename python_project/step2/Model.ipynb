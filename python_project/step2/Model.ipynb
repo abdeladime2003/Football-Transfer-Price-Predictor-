{
  "cells": [
    {
      "cell_type": "code",
      "execution_count": 58,
      "metadata": {
        "id": "YYbSa07qh-Km"
      },
      "outputs": [],
      "source": [
        "from sklearn.linear_model import LinearRegression, Ridge, LassoCV\n",
        "from sklearn.metrics import mean_squared_error, mean_absolute_error\n",
        "from sklearn.model_selection import train_test_split, GridSearchCV\n",
        "from sklearn.decomposition import PCA\n",
        "from sklearn.preprocessing import StandardScaler\n",
        "from sklearn.model_selection import cross_val_score\n",
        "from sklearn.metrics import make_scorer\n",
        "import pandas as pd\n",
        "import numpy as np"
      ]
    },
    {
      "cell_type": "code",
      "execution_count": 39,
      "metadata": {
        "id": "3XPF-yqMh-Kq"
      },
      "outputs": [],
      "source": [
        "df_encoded = pd.read_csv(r\"C:\\Users\\Lenovo\\Desktop\\projet_baina\\nouveau_projet\\final_code\\data\\data_training.csv\")"
      ]
    },
    {
      "cell_type": "code",
      "execution_count": 61,
      "metadata": {},
      "outputs": [
        {
          "name": "stdout",
          "output_type": "stream",
          "text": [
            "Mean Squared Error: 4357.321893788152\n",
            "Mean Absolute Error: 32.99608927769112\n"
          ]
        }
      ],
      "source": [
        "# Séparation des fonctionnalités et de la cible\n",
        "X = df_encoded[\"market_value\"].values.reshape(-1, 1)  # Utilisation de market_value comme seule fonctionnalité\n",
        "y = df_encoded[\"fee\"]\n",
        "\n",
        "# Division des données en ensembles d'entraînement et de test\n",
        "X_train, X_test, y_train, y_test = train_test_split(X, y, test_size=0.2, random_state=1937)\n",
        "\n",
        "# Normalisation des fonctionnalités (non nécessaire pour une régression simple)\n",
        "# scaler = StandardScaler()\n",
        "# X_train_scaled = scaler.fit_transform(X_train)\n",
        "# X_test_scaled = scaler.transform(X_test)\n",
        "\n",
        "# Entraînement du modèle de régression linéaire simple\n",
        "regression = LinearRegression()\n",
        "regression.fit(X_train, y_train)\n",
        "\n",
        "# Prédictions sur l'ensemble de test\n",
        "y_pred = regression.predict(X_test)\n",
        "\n",
        "# Calcul des métriques\n",
        "mse = mean_squared_error(y_test, y_pred)\n",
        "mae = mean_absolute_error(y_test, y_pred)\n",
        "\n",
        "# Affichage des résultats\n",
        "print(\"Mean Squared Error:\", mse)\n",
        "print(\"Mean Absolute Error:\", mae)\n"
      ]
    },
    {
      "cell_type": "code",
      "execution_count": 60,
      "metadata": {},
      "outputs": [
        {
          "name": "stdout",
          "output_type": "stream",
          "text": [
            "Mean Squared Error: 4874.559503992088\n",
            "Mean Absolute Error: 35.79652331793132\n",
            "Best alpha found: 3.555775303907281\n"
          ]
        }
      ],
      "source": [
        "# Séparation des fonctionnalités et de la cible\n",
        "X = df_encoded.drop([\"fee\", \"name\"], axis=1)\n",
        "y = df_encoded[\"fee\"]\n",
        "\n",
        "# Division des données en ensembles d'entraînement et de test\n",
        "X_train, X_test, y_train, y_test = train_test_split(X, y, test_size=0.2, random_state=1937)\n",
        "\n",
        "# Normalisation des fonctionnalités\n",
        "scaler = StandardScaler()\n",
        "X_train_scaled = scaler.fit_transform(X_train)\n",
        "X_test_scaled = scaler.transform(X_test)\n",
        "\n",
        "# Entraînement du modèle LassoCV\n",
        "lasso = LassoCV(cv=5, max_iter=10000)\n",
        "lasso.fit(X_train_scaled, y_train)\n",
        "\n",
        "# Prédictions sur l'ensemble de test\n",
        "y_pred = lasso.predict(X_test_scaled)\n",
        "\n",
        "# Calcul des métriques\n",
        "mse = mean_squared_error(y_test, y_pred)\n",
        "mae = mean_absolute_error(y_test, y_pred)\n",
        "\n",
        "# Affichage des résultats\n",
        "print(\"Mean Squared Error:\", mse)\n",
        "print(\"Mean Absolute Error:\", mae)\n",
        "print(\"Best alpha found:\", lasso.alpha_)\n"
      ]
    },
    {
      "cell_type": "code",
      "execution_count": 59,
      "metadata": {
        "colab": {
          "base_uri": "https://localhost:8080/"
        },
        "id": "H0sZmGWih-Kr",
        "outputId": "f6834690-dab3-4059-fc61-ce87d572953e"
      },
      "outputs": [
        {
          "name": "stdout",
          "output_type": "stream",
          "text": [
            "Mean Squared Error: 5443.988458171535\n",
            "Mean Absolute Error: 47.41251775492675\n",
            "Best alpha found: 10.0\n"
          ]
        }
      ],
      "source": [
        "X = df_encoded.drop([\"fee\", \"name\"], axis=1)\n",
        "y = df_encoded[\"fee\"]\n",
        "# Division des données en ensembles d'entraînement et de test\n",
        "X_train, X_test, y_train, y_test = train_test_split(X, y, test_size=0.2, random_state=1937)\n",
        "\n",
        "# Normalisation des fonctionnalités\n",
        "scaler = StandardScaler()\n",
        "X_train_scaled = scaler.fit_transform(X_train)\n",
        "X_test_scaled = scaler.transform(X_test)\n",
        "\n",
        "# Entraînement du modèle RidgeCV\n",
        "ridge = RidgeCV(cv=5)\n",
        "ridge.fit(X_train_scaled, y_train)\n",
        "\n",
        "# Prédictions sur l'ensemble de test\n",
        "y_pred = ridge.predict(X_test_scaled)\n",
        "\n",
        "# Calcul des métriques\n",
        "mse = mean_squared_error(y_test, y_pred)\n",
        "mae = mean_absolute_error(y_test, y_pred)\n",
        "\n",
        "# Affichage des résultats\n",
        "print(\"Mean Squared Error:\", mse)\n",
        "print(\"Mean Absolute Error:\", mae)\n",
        "print(\"Best alpha found:\", ridge.alpha_)\n"
      ]
    },
    {
      "cell_type": "code",
      "execution_count": 54,
      "metadata": {},
      "outputs": [
        {
          "name": "stdout",
          "output_type": "stream",
          "text": [
            "Mean Squared Error: 4874.559503992088\n",
            "Mean Absolute Error: 35.79652331793132\n",
            "Best alpha found: 3.555775303907281\n"
          ]
        }
      ],
      "source": []
    },
    {
      "cell_type": "code",
      "execution_count": 56,
      "metadata": {},
      "outputs": [
        {
          "name": "stdout",
          "output_type": "stream",
          "text": [
            "Mean Squared Error: 5443.988458171535\n",
            "Mean Absolute Error: 47.41251775492675\n",
            "Best alpha found: 10.0\n"
          ]
        }
      ],
      "source": []
    }
  ],
  "metadata": {
    "colab": {
      "provenance": []
    },
    "kernelspec": {
      "display_name": "Python 3",
      "language": "python",
      "name": "python3"
    },
    "language_info": {
      "codemirror_mode": {
        "name": "ipython",
        "version": 3
      },
      "file_extension": ".py",
      "mimetype": "text/x-python",
      "name": "python",
      "nbconvert_exporter": "python",
      "pygments_lexer": "ipython3",
      "version": "3.12.1"
    }
  },
  "nbformat": 4,
  "nbformat_minor": 0
}
