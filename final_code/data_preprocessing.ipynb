{
  "cells": [
    {
      "cell_type": "code",
      "execution_count": 82,
      "metadata": {
        "id": "rf0BEZUslFvz"
      },
      "outputs": [],
      "source": [
        "import numpy as np\n",
        "import pandas as pd\n"
      ]
    },
    {
      "cell_type": "code",
      "execution_count": 83,
      "metadata": {},
      "outputs": [],
      "source": [
        "df = pd.read_csv(r\"C:\\Users\\Lenovo\\Desktop\\projet_baina\\nouveau_projet\\final_code\\data\\transfert_data.csv\")"
      ]
    },
    {
      "cell_type": "code",
      "execution_count": 84,
      "metadata": {},
      "outputs": [
        {
          "name": "stdout",
          "output_type": "stream",
          "text": [
            "Shape of df: (798, 20)\n"
          ]
        }
      ],
      "source": [
        "\n",
        "print(\"Shape of df:\", df.shape)\n",
        "df1 = df.copy()\n"
      ]
    },
    {
      "cell_type": "code",
      "execution_count": 85,
      "metadata": {},
      "outputs": [
        {
          "data": {
            "text/plain": [
              "(798, 20)"
            ]
          },
          "execution_count": 85,
          "metadata": {},
          "output_type": "execute_result"
        }
      ],
      "source": [
        "df1=df1.drop_duplicates()\n",
        "df1=df1.reset_index(drop=True)\n",
        "df1.shape"
      ]
    },
    {
      "cell_type": "code",
      "execution_count": 86,
      "metadata": {},
      "outputs": [],
      "source": [
        "df1=df1.drop([\"Unnamed: 0\",\"country_from\",\"country_to\"],axis=1)"
      ]
    },
    {
      "cell_type": "code",
      "execution_count": 87,
      "metadata": {},
      "outputs": [
        {
          "data": {
            "text/plain": [
              "array([15, 12, 11, 10,  9,  8,  7,  6,  5,  4,  3,  2,  1], dtype=int64)"
            ]
          },
          "execution_count": 87,
          "metadata": {},
          "output_type": "execute_result"
        }
      ],
      "source": [
        "occurrences_clubs = df1[\"club_from\"].value_counts().unique()\n",
        "occurrences_clubs"
      ]
    },
    {
      "cell_type": "code",
      "execution_count": 88,
      "metadata": {},
      "outputs": [],
      "source": [
        "# Colonnes catégorielles à traiter\n",
        "colonnes_categorielles1 = ['league_from', 'league_to']\n",
        "colonnes_categorielles2 = ['club_to', 'club_from']\n",
        "\n",
        "# Traitement des colonnes categorielles\n",
        "for colonne in colonnes_categorielles1:\n",
        "    counts = df1[colonne].value_counts()\n",
        "    categories_autre = counts[counts < 4].index.tolist()\n",
        "    df1[colonne] = df1[colonne].apply(lambda x: 'Autre' if x in categories_autre else x)\n",
        "\n",
        "for colonne in colonnes_categorielles2:\n",
        "    counts = df1[colonne].value_counts()\n",
        "    categories_autre = counts[counts < 11].index.tolist()\n",
        "    if 'Saudi Pro League' in categories_autre:\n",
        "        categories_autre.remove('Saudi Pro League')\n",
        "    df1[colonne] = df1[colonne].apply(lambda x: 'Autre' if x in categories_autre else x)\n",
        "\n",
        "# One-hot encoding\n",
        "df_encoded = pd.get_dummies(df1, columns=colonnes_categorielles1 + colonnes_categorielles2 + ['position'] + ['loan'], dtype=int)\n"
      ]
    },
    {
      "cell_type": "code",
      "execution_count": 89,
      "metadata": {},
      "outputs": [],
      "source": [
        "df_encoded[\"fee\"] = df_encoded[\"fee\"].str.replace('k', '').astype(float) * 1000\n",
        "df_encoded[\"market_value\"] = df_encoded[\"market_value\"].str.replace('k', '').astype(float) * 1000\n"
      ]
    },
    {
      "cell_type": "code",
      "execution_count": 90,
      "metadata": {},
      "outputs": [],
      "source": [
        "df_encoded=df_encoded.dropna()\n",
        "df_encoded=df_encoded.drop_duplicates()"
      ]
    },
    {
      "cell_type": "code",
      "execution_count": 91,
      "metadata": {},
      "outputs": [
        {
          "data": {
            "text/html": [
              "<div>\n",
              "<style scoped>\n",
              "    .dataframe tbody tr th:only-of-type {\n",
              "        vertical-align: middle;\n",
              "    }\n",
              "\n",
              "    .dataframe tbody tr th {\n",
              "        vertical-align: top;\n",
              "    }\n",
              "\n",
              "    .dataframe thead th {\n",
              "        text-align: right;\n",
              "    }\n",
              "</style>\n",
              "<table border=\"1\" class=\"dataframe\">\n",
              "  <thead>\n",
              "    <tr style=\"text-align: right;\">\n",
              "      <th></th>\n",
              "      <th>ATT</th>\n",
              "      <th>SKI</th>\n",
              "      <th>MOV</th>\n",
              "      <th>POW</th>\n",
              "      <th>MEN</th>\n",
              "      <th>DEF</th>\n",
              "      <th>GK</th>\n",
              "    </tr>\n",
              "  </thead>\n",
              "  <tbody>\n",
              "    <tr>\n",
              "      <th>ATT</th>\n",
              "      <td>1.000000</td>\n",
              "      <td>0.906219</td>\n",
              "      <td>0.653273</td>\n",
              "      <td>0.827636</td>\n",
              "      <td>0.840280</td>\n",
              "      <td>0.157337</td>\n",
              "      <td>0.783897</td>\n",
              "    </tr>\n",
              "    <tr>\n",
              "      <th>SKI</th>\n",
              "      <td>0.906219</td>\n",
              "      <td>1.000000</td>\n",
              "      <td>0.699717</td>\n",
              "      <td>0.714497</td>\n",
              "      <td>0.872538</td>\n",
              "      <td>0.285973</td>\n",
              "      <td>0.753965</td>\n",
              "    </tr>\n",
              "    <tr>\n",
              "      <th>MOV</th>\n",
              "      <td>0.653273</td>\n",
              "      <td>0.699717</td>\n",
              "      <td>1.000000</td>\n",
              "      <td>0.507865</td>\n",
              "      <td>0.559894</td>\n",
              "      <td>0.076811</td>\n",
              "      <td>0.563624</td>\n",
              "    </tr>\n",
              "    <tr>\n",
              "      <th>POW</th>\n",
              "      <td>0.827636</td>\n",
              "      <td>0.714497</td>\n",
              "      <td>0.507865</td>\n",
              "      <td>1.000000</td>\n",
              "      <td>0.781490</td>\n",
              "      <td>0.206922</td>\n",
              "      <td>0.603301</td>\n",
              "    </tr>\n",
              "    <tr>\n",
              "      <th>MEN</th>\n",
              "      <td>0.840280</td>\n",
              "      <td>0.872538</td>\n",
              "      <td>0.559894</td>\n",
              "      <td>0.781490</td>\n",
              "      <td>1.000000</td>\n",
              "      <td>0.528228</td>\n",
              "      <td>0.727101</td>\n",
              "    </tr>\n",
              "    <tr>\n",
              "      <th>DEF</th>\n",
              "      <td>0.157337</td>\n",
              "      <td>0.285973</td>\n",
              "      <td>0.076811</td>\n",
              "      <td>0.206922</td>\n",
              "      <td>0.528228</td>\n",
              "      <td>1.000000</td>\n",
              "      <td>0.444797</td>\n",
              "    </tr>\n",
              "    <tr>\n",
              "      <th>GK</th>\n",
              "      <td>0.783897</td>\n",
              "      <td>0.753965</td>\n",
              "      <td>0.563624</td>\n",
              "      <td>0.603301</td>\n",
              "      <td>0.727101</td>\n",
              "      <td>0.444797</td>\n",
              "      <td>1.000000</td>\n",
              "    </tr>\n",
              "  </tbody>\n",
              "</table>\n",
              "</div>"
            ],
            "text/plain": [
              "          ATT       SKI       MOV       POW       MEN       DEF        GK\n",
              "ATT  1.000000  0.906219  0.653273  0.827636  0.840280  0.157337  0.783897\n",
              "SKI  0.906219  1.000000  0.699717  0.714497  0.872538  0.285973  0.753965\n",
              "MOV  0.653273  0.699717  1.000000  0.507865  0.559894  0.076811  0.563624\n",
              "POW  0.827636  0.714497  0.507865  1.000000  0.781490  0.206922  0.603301\n",
              "MEN  0.840280  0.872538  0.559894  0.781490  1.000000  0.528228  0.727101\n",
              "DEF  0.157337  0.285973  0.076811  0.206922  0.528228  1.000000  0.444797\n",
              "GK   0.783897  0.753965  0.563624  0.603301  0.727101  0.444797  1.000000"
            ]
          },
          "execution_count": 91,
          "metadata": {},
          "output_type": "execute_result"
        }
      ],
      "source": [
        "df_encoded.iloc[:,4:11].corr().abs()"
      ]
    },
    {
      "cell_type": "code",
      "execution_count": 92,
      "metadata": {},
      "outputs": [],
      "source": [
        "df_encoded=df_encoded.reset_index(drop=True)"
      ]
    },
    {
      "cell_type": "code",
      "execution_count": 93,
      "metadata": {},
      "outputs": [
        {
          "ename": "ValueError",
          "evalue": "n_classes(132) * n_clusters_per_class(2) must be smaller or equal 2**n_informative(2)=4",
          "output_type": "error",
          "traceback": [
            "\u001b[1;31m---------------------------------------------------------------------------\u001b[0m",
            "\u001b[1;31mValueError\u001b[0m                                Traceback (most recent call last)",
            "Cell \u001b[1;32mIn[93], line 8\u001b[0m\n\u001b[0;32m      6\u001b[0m X \u001b[38;5;241m=\u001b[39m df_encoded\u001b[38;5;241m.\u001b[39mdrop(columns\u001b[38;5;241m=\u001b[39m[\u001b[38;5;124m\"\u001b[39m\u001b[38;5;124mfee\u001b[39m\u001b[38;5;124m\"\u001b[39m])\n\u001b[0;32m      7\u001b[0m y \u001b[38;5;241m=\u001b[39m df_encoded[\u001b[38;5;124m\"\u001b[39m\u001b[38;5;124mfee\u001b[39m\u001b[38;5;124m\"\u001b[39m]\n\u001b[1;32m----> 8\u001b[0m X_synthetic, y_synthetic \u001b[38;5;241m=\u001b[39m \u001b[43mmake_classification\u001b[49m\u001b[43m(\u001b[49m\n\u001b[0;32m      9\u001b[0m \u001b[43m    \u001b[49m\u001b[43mn_samples\u001b[49m\u001b[38;5;241;43m=\u001b[39;49m\u001b[43mn_rows_to_generate\u001b[49m\u001b[43m,\u001b[49m\n\u001b[0;32m     10\u001b[0m \u001b[43m    \u001b[49m\u001b[43mn_features\u001b[49m\u001b[38;5;241;43m=\u001b[39;49m\u001b[43mX\u001b[49m\u001b[38;5;241;43m.\u001b[39;49m\u001b[43mshape\u001b[49m\u001b[43m[\u001b[49m\u001b[38;5;241;43m1\u001b[39;49m\u001b[43m]\u001b[49m\u001b[43m,\u001b[49m\n\u001b[0;32m     11\u001b[0m \u001b[43m    \u001b[49m\u001b[43mn_classes\u001b[49m\u001b[38;5;241;43m=\u001b[39;49m\u001b[38;5;28;43mlen\u001b[39;49m\u001b[43m(\u001b[49m\u001b[43mnp\u001b[49m\u001b[38;5;241;43m.\u001b[39;49m\u001b[43munique\u001b[49m\u001b[43m(\u001b[49m\u001b[43my\u001b[49m\u001b[43m)\u001b[49m\u001b[43m)\u001b[49m\u001b[43m,\u001b[49m\n\u001b[0;32m     12\u001b[0m \u001b[43m    \u001b[49m\u001b[43mweights\u001b[49m\u001b[38;5;241;43m=\u001b[39;49m\u001b[43m[\u001b[49m\u001b[38;5;241;43m0.5\u001b[39;49m\u001b[43m]\u001b[49m\u001b[43m \u001b[49m\u001b[38;5;241;43m*\u001b[39;49m\u001b[43m \u001b[49m\u001b[38;5;28;43mlen\u001b[39;49m\u001b[43m(\u001b[49m\u001b[43mnp\u001b[49m\u001b[38;5;241;43m.\u001b[39;49m\u001b[43munique\u001b[49m\u001b[43m(\u001b[49m\u001b[43my\u001b[49m\u001b[43m)\u001b[49m\u001b[43m)\u001b[49m\u001b[43m,\u001b[49m\u001b[43m  \u001b[49m\n\u001b[0;32m     13\u001b[0m \u001b[43m    \u001b[49m\u001b[43mrandom_state\u001b[49m\u001b[38;5;241;43m=\u001b[39;49m\u001b[38;5;241;43m42\u001b[39;49m\n\u001b[0;32m     14\u001b[0m \u001b[43m)\u001b[49m\n\u001b[0;32m     15\u001b[0m df_synthetic \u001b[38;5;241m=\u001b[39m pd\u001b[38;5;241m.\u001b[39mDataFrame(data\u001b[38;5;241m=\u001b[39mX_synthetic, columns\u001b[38;5;241m=\u001b[39mX\u001b[38;5;241m.\u001b[39mcolumns)\n\u001b[0;32m     16\u001b[0m df_synthetic[\u001b[38;5;124m\"\u001b[39m\u001b[38;5;124mfee\u001b[39m\u001b[38;5;124m\"\u001b[39m] \u001b[38;5;241m=\u001b[39m y_synthetic\n",
            "File \u001b[1;32mc:\\Users\\Lenovo\\Desktop\\pandas\\Lib\\site-packages\\sklearn\\utils\\_param_validation.py:214\u001b[0m, in \u001b[0;36mvalidate_params.<locals>.decorator.<locals>.wrapper\u001b[1;34m(*args, **kwargs)\u001b[0m\n\u001b[0;32m    208\u001b[0m \u001b[38;5;28;01mtry\u001b[39;00m:\n\u001b[0;32m    209\u001b[0m     \u001b[38;5;28;01mwith\u001b[39;00m config_context(\n\u001b[0;32m    210\u001b[0m         skip_parameter_validation\u001b[38;5;241m=\u001b[39m(\n\u001b[0;32m    211\u001b[0m             prefer_skip_nested_validation \u001b[38;5;129;01mor\u001b[39;00m global_skip_validation\n\u001b[0;32m    212\u001b[0m         )\n\u001b[0;32m    213\u001b[0m     ):\n\u001b[1;32m--> 214\u001b[0m         \u001b[38;5;28;01mreturn\u001b[39;00m \u001b[43mfunc\u001b[49m\u001b[43m(\u001b[49m\u001b[38;5;241;43m*\u001b[39;49m\u001b[43margs\u001b[49m\u001b[43m,\u001b[49m\u001b[43m \u001b[49m\u001b[38;5;241;43m*\u001b[39;49m\u001b[38;5;241;43m*\u001b[39;49m\u001b[43mkwargs\u001b[49m\u001b[43m)\u001b[49m\n\u001b[0;32m    215\u001b[0m \u001b[38;5;28;01mexcept\u001b[39;00m InvalidParameterError \u001b[38;5;28;01mas\u001b[39;00m e:\n\u001b[0;32m    216\u001b[0m     \u001b[38;5;66;03m# When the function is just a wrapper around an estimator, we allow\u001b[39;00m\n\u001b[0;32m    217\u001b[0m     \u001b[38;5;66;03m# the function to delegate validation to the estimator, but we replace\u001b[39;00m\n\u001b[0;32m    218\u001b[0m     \u001b[38;5;66;03m# the name of the estimator by the name of the function in the error\u001b[39;00m\n\u001b[0;32m    219\u001b[0m     \u001b[38;5;66;03m# message to avoid confusion.\u001b[39;00m\n\u001b[0;32m    220\u001b[0m     msg \u001b[38;5;241m=\u001b[39m re\u001b[38;5;241m.\u001b[39msub(\n\u001b[0;32m    221\u001b[0m         \u001b[38;5;124mr\u001b[39m\u001b[38;5;124m\"\u001b[39m\u001b[38;5;124mparameter of \u001b[39m\u001b[38;5;124m\\\u001b[39m\u001b[38;5;124mw+ must be\u001b[39m\u001b[38;5;124m\"\u001b[39m,\n\u001b[0;32m    222\u001b[0m         \u001b[38;5;124mf\u001b[39m\u001b[38;5;124m\"\u001b[39m\u001b[38;5;124mparameter of \u001b[39m\u001b[38;5;132;01m{\u001b[39;00mfunc\u001b[38;5;241m.\u001b[39m\u001b[38;5;18m__qualname__\u001b[39m\u001b[38;5;132;01m}\u001b[39;00m\u001b[38;5;124m must be\u001b[39m\u001b[38;5;124m\"\u001b[39m,\n\u001b[0;32m    223\u001b[0m         \u001b[38;5;28mstr\u001b[39m(e),\n\u001b[0;32m    224\u001b[0m     )\n",
            "File \u001b[1;32mc:\\Users\\Lenovo\\Desktop\\pandas\\Lib\\site-packages\\sklearn\\datasets\\_samples_generator.py:209\u001b[0m, in \u001b[0;36mmake_classification\u001b[1;34m(n_samples, n_features, n_informative, n_redundant, n_repeated, n_classes, n_clusters_per_class, weights, flip_y, class_sep, hypercube, shift, scale, shuffle, random_state)\u001b[0m\n\u001b[0;32m    207\u001b[0m     msg \u001b[38;5;241m=\u001b[39m \u001b[38;5;124m\"\u001b[39m\u001b[38;5;124mn_classes(\u001b[39m\u001b[38;5;132;01m{}\u001b[39;00m\u001b[38;5;124m) * n_clusters_per_class(\u001b[39m\u001b[38;5;132;01m{}\u001b[39;00m\u001b[38;5;124m) must be\u001b[39m\u001b[38;5;124m\"\u001b[39m\n\u001b[0;32m    208\u001b[0m     msg \u001b[38;5;241m+\u001b[39m\u001b[38;5;241m=\u001b[39m \u001b[38;5;124m\"\u001b[39m\u001b[38;5;124m smaller or equal 2**n_informative(\u001b[39m\u001b[38;5;132;01m{}\u001b[39;00m\u001b[38;5;124m)=\u001b[39m\u001b[38;5;132;01m{}\u001b[39;00m\u001b[38;5;124m\"\u001b[39m\n\u001b[1;32m--> 209\u001b[0m     \u001b[38;5;28;01mraise\u001b[39;00m \u001b[38;5;167;01mValueError\u001b[39;00m(\n\u001b[0;32m    210\u001b[0m         msg\u001b[38;5;241m.\u001b[39mformat(\n\u001b[0;32m    211\u001b[0m             n_classes, n_clusters_per_class, n_informative, \u001b[38;5;241m2\u001b[39m\u001b[38;5;241m*\u001b[39m\u001b[38;5;241m*\u001b[39mn_informative\n\u001b[0;32m    212\u001b[0m         )\n\u001b[0;32m    213\u001b[0m     )\n\u001b[0;32m    215\u001b[0m \u001b[38;5;28;01mif\u001b[39;00m weights \u001b[38;5;129;01mis\u001b[39;00m \u001b[38;5;129;01mnot\u001b[39;00m \u001b[38;5;28;01mNone\u001b[39;00m:\n\u001b[0;32m    216\u001b[0m     \u001b[38;5;28;01mif\u001b[39;00m \u001b[38;5;28mlen\u001b[39m(weights) \u001b[38;5;129;01mnot\u001b[39;00m \u001b[38;5;129;01min\u001b[39;00m [n_classes, n_classes \u001b[38;5;241m-\u001b[39m \u001b[38;5;241m1\u001b[39m]:\n",
            "\u001b[1;31mValueError\u001b[0m: n_classes(132) * n_clusters_per_class(2) must be smaller or equal 2**n_informative(2)=4"
          ]
        }
      ],
      "source": [
        "import numpy as np\n",
        "import pandas as pd\n",
        "from sklearn.datasets import make_classification\n",
        "from sklearn.utils import shuffle\n",
        "n_rows_to_generate = 500000 - len(df_encoded)\n",
        "X = df_encoded.drop(columns=[\"fee\"])\n",
        "y = df_encoded[\"fee\"]\n",
        "X_synthetic, y_synthetic = make_classification(\n",
        "    n_samples=n_rows_to_generate,\n",
        "    n_features=X.shape[1],\n",
        "    n_classes=len(np.unique(y)),\n",
        "    weights=[0.5] * len(np.unique(y)),  \n",
        "    random_state=42\n",
        ")\n",
        "df_synthetic = pd.DataFrame(data=X_synthetic, columns=X.columns)\n",
        "df_synthetic[\"fee\"] = y_synthetic\n",
        "df_final = pd.concat([df_encoded, df_synthetic], ignore_index=True)\n",
        "df_final.to_csv(r\"C:\\Users\\Lenovo\\Desktop\\projet_baina\\nouveau_projet\\final_code\\data\\model_training_data.csv\", index=False)\n"
      ]
    }
  ],
  "metadata": {
    "colab": {
      "provenance": []
    },
    "kernelspec": {
      "display_name": "Python 3",
      "name": "python3"
    },
    "language_info": {
      "codemirror_mode": {
        "name": "ipython",
        "version": 3
      },
      "file_extension": ".py",
      "mimetype": "text/x-python",
      "name": "python",
      "nbconvert_exporter": "python",
      "pygments_lexer": "ipython3",
      "version": "3.12.1"
    }
  },
  "nbformat": 4,
  "nbformat_minor": 0
}
