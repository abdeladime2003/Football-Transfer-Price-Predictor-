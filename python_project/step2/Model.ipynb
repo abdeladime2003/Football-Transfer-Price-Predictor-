{
  "cells": [
    {
      "cell_type": "code",
      "execution_count": 20,
      "metadata": {
        "id": "YYbSa07qh-Km"
      },
      "outputs": [],
      "source": [
        "from sklearn.linear_model import LinearRegression, Ridge, LassoCV\n",
        "from sklearn.metrics import mean_squared_error, mean_absolute_error\n",
        "from sklearn.model_selection import train_test_split, GridSearchCV\n",
        "from sklearn.decomposition import PCA\n",
        "from sklearn.preprocessing import StandardScaler\n",
        "from sklearn.model_selection import cross_val_score\n",
        "from sklearn.metrics import make_scorer\n",
        "import pandas as pd\n",
        "import numpy as np"
      ]
    },
    {
      "cell_type": "code",
      "execution_count": 21,
      "metadata": {
        "id": "3XPF-yqMh-Kq"
      },
      "outputs": [],
      "source": [
        "df_encoded = pd.read_csv(r\"C:\\Users\\Lenovo\\Desktop\\projet_baina\\nouveau_projet\\python_project\\step1\\data\\model_training_data.csv\")"
      ]
    },
    {
      "cell_type": "code",
      "execution_count": 22,
      "metadata": {
        "colab": {
          "base_uri": "https://localhost:8080/"
        },
        "id": "H0sZmGWih-Kr",
        "outputId": "f6834690-dab3-4059-fc61-ce87d572953e"
      },
      "outputs": [
        {
          "name": "stdout",
          "output_type": "stream",
          "text": [
            "Mean Squared Error: 5437111053.28591\n",
            "Mean Absolute Error: 27775.142464446744\n"
          ]
        }
      ],
      "source": [
        "reg = LinearRegression()\n",
        "\n",
        "\n",
        "X = df_encoded.drop([\"fee\", \"name\"], axis=1)\n",
        "y = df_encoded[\"fee\"]\n",
        "\n",
        "\n",
        "X_train,X_test,y_train,y_test=train_test_split(X, y, test_size=0.2, random_state=1937)\n",
        "reg.fit(X_train,y_train)\n",
        "\n",
        "\n",
        "y_pred = reg.predict(X_test)\n",
        "\n",
        "\n",
        "mse = mean_squared_error(y_test, y_pred)\n",
        "mae = mean_absolute_error(y_test, y_pred)\n",
        "print(\"Mean Squared Error:\", mse)\n",
        "print(\"Mean Absolute Error:\", mae)"
      ]
    },
    {
      "cell_type": "code",
      "execution_count": 25,
      "metadata": {
        "colab": {
          "base_uri": "https://localhost:8080/"
        },
        "id": "5q4_OvCmh-Ks",
        "outputId": "94dc9fe2-d7f7-4706-df14-6eff615dbf37"
      },
      "outputs": [
        {
          "name": "stderr",
          "output_type": "stream",
          "text": [
            "c:\\Users\\Lenovo\\Desktop\\pandas\\Lib\\site-packages\\sklearn\\base.py:465: UserWarning: X does not have valid feature names, but StandardScaler was fitted with feature names\n",
            "  warnings.warn(\n"
          ]
        },
        {
          "ename": "ValueError",
          "evalue": "Expected 2D array, got 1D array instead:\narray=[7.860e+00 0.000e+00 0.000e+00 9.500e+00 0.000e+00 3.200e+00 1.000e+00\n 3.500e+00 9.000e+00 4.200e+00 0.000e+00 0.000e+00 1.040e+01 3.500e+00\n 5.500e+00 5.100e+00 0.000e+00 0.000e+00 0.000e+00 1.560e+00 0.000e+00\n 7.100e+00 0.000e+00 8.900e+05 2.500e+00 5.620e+01 9.000e+00 0.000e+00\n 0.000e+00 0.000e+00 0.000e+00 3.850e+00 0.000e+00 2.500e+00 2.200e+01\n 3.460e+00 2.000e+00 4.500e+00 2.600e+00 5.500e+00 4.000e+00 3.000e+00\n 0.000e+00 2.000e+01 0.000e+00 6.530e+01 1.500e+00 1.780e+01 4.400e+00\n 1.500e+01 2.500e+00 8.000e+00 5.100e+05 1.000e+00 0.000e+00 5.800e+01\n 4.000e+05 2.000e+00 0.000e+00 0.000e+00 3.500e+00 0.000e+00 2.000e+00\n 0.000e+00 9.000e+00 5.000e+00 2.500e+01 0.000e+00 1.000e+00 1.200e+01\n 1.500e+00 9.500e+01 3.000e+00 1.300e+01 6.000e+00 3.500e+00 2.600e+01\n 5.000e+00 0.000e+00 3.500e+00 0.000e+00 1.000e+01 1.200e+01 0.000e+00\n 0.000e+00 0.000e+00 0.000e+00 1.800e+01 0.000e+00 0.000e+00 1.400e+00\n 3.200e+00 3.000e+00 0.000e+00 3.500e+01 4.000e+00 2.000e+00 0.000e+00\n 2.500e+00 0.000e+00 0.000e+00 0.000e+00 8.500e+00 5.500e+00 0.000e+00\n 2.430e+01 2.500e+00 2.500e+00 3.500e+00 7.000e+00 1.360e+05 4.800e+00\n 1.500e+01 0.000e+00 0.000e+00 0.000e+00 0.000e+00 1.000e+05 0.000e+00\n 4.000e+00 0.000e+00 9.300e+00 1.245e+01 0.000e+00 3.100e+01 0.000e+00\n 0.000e+00 1.200e+01 7.100e+00 0.000e+00 0.000e+00 0.000e+00 5.000e+00\n 0.000e+00 0.000e+00 0.000e+00 6.000e+00 0.000e+00 7.000e+00 3.600e+00\n 0.000e+00 0.000e+00 0.000e+00 0.000e+00 1.400e+01 1.900e+01 0.000e+00\n 0.000e+00 0.000e+00 0.000e+00 1.480e+01 6.200e+00 3.120e+00 4.200e+05\n 8.020e+00 1.500e+01 1.500e+00 9.200e+00 1.530e+00 2.620e+00 3.000e+00\n 2.000e+01 0.000e+00 1.530e+01 3.500e+00 3.650e+00 0.000e+00 0.000e+00\n 1.500e+00 0.000e+00 1.540e+01 4.000e+00 2.920e+01 1.800e+01 3.850e+00\n 1.700e+01 0.000e+00 7.000e+00 0.000e+00 0.000e+00 0.000e+00 3.500e+00\n 4.000e+00 0.000e+00 0.000e+00 0.000e+00 6.000e+00 1.800e+01 0.000e+00\n 0.000e+00 1.000e+00 5.000e+05 0.000e+00 1.400e+01 1.000e+00 5.000e+05\n 4.900e+05 2.000e+00 2.960e+00 2.600e+00 2.500e+00 3.000e+00 4.000e+00\n 0.000e+00 9.000e+00 5.000e+00 0.000e+00 2.700e+00 0.000e+00 2.000e+01\n 0.000e+00 8.500e+00 2.740e+01 2.000e+00 0.000e+00 0.000e+00 5.000e+00\n 3.000e+00 0.000e+00 1.850e+01 1.470e+01 0.000e+00 0.000e+00 3.000e+01\n 3.000e+00 0.000e+00 0.000e+00 0.000e+00 0.000e+00 0.000e+00 1.000e+00\n 5.680e+00 4.600e+00 1.034e+01 2.000e+00 4.360e+01 1.000e+00 0.000e+00\n 3.000e+00 1.200e+01 4.000e+00 0.000e+00 0.000e+00 3.700e+01 1.200e+01\n 0.000e+00 0.000e+00 6.700e+01 0.000e+00 3.350e+00 5.230e+00 0.000e+00\n 3.125e+01 1.285e+01 2.000e+00 0.000e+00 0.000e+00 5.900e+00 1.425e+01\n 3.000e+00 5.000e+00 1.000e+00 1.200e+00 0.000e+00 1.500e+00 5.250e+00\n 1.750e+01 6.000e+05 0.000e+00 0.000e+00 6.000e+00 3.000e+00 0.000e+00\n 1.200e+01 1.890e+00 0.000e+00 5.000e+00 8.000e+00 1.000e+00 1.250e+01\n 0.000e+00 1.500e+00 3.000e+00 5.000e+00 0.000e+00 0.000e+00 8.200e+00\n 7.500e+00 3.000e+00 3.500e+01 9.100e+00 3.700e+00 3.000e+00 2.850e+01\n 0.000e+00 4.000e+00 3.284e+01 6.700e+00 4.000e+00 9.500e+00 3.000e+00\n 0.000e+00 1.000e+00 5.000e+00 1.500e+00 1.800e+00 0.000e+00 9.400e+00\n 0.000e+00 5.000e+01 1.000e+01 8.500e+00 0.000e+00 0.000e+00 1.500e+00\n 4.000e+00 0.000e+00 9.400e+00 0.000e+00 0.000e+00 2.000e+00 0.000e+00\n 0.000e+00 1.150e+01 2.000e+00 0.000e+00 0.000e+00 6.500e+00 0.000e+00\n 0.000e+00 5.000e+00 3.650e+01 3.000e+05 4.550e+00 6.000e+00 8.500e+00\n 5.000e+05 0.000e+00 0.000e+00 7.000e+00 3.300e+00 0.000e+00 1.300e+01\n 6.000e+00 3.900e+00 6.000e+00 5.000e+00 1.750e+00 0.000e+00 0.000e+00\n 6.000e+00 1.000e+00 1.015e+01 3.200e+00 2.550e+00 0.000e+00 5.750e+00\n 0.000e+00 0.000e+00 0.000e+00 4.500e+00 0.000e+00 0.000e+00 4.500e+00\n 2.000e+01 2.900e+00 2.800e+01 0.000e+00 0.000e+00 0.000e+00 6.000e+00\n 7.000e+00 0.000e+00 0.000e+00 1.900e+00 0.000e+00 3.800e+01 0.000e+00\n 4.000e+05 0.000e+00 1.000e+00 1.000e+01 1.300e+01 1.050e+01 2.500e+00\n 5.000e+00 5.800e+00 9.000e+00 0.000e+00 1.000e+01 3.000e+00 4.500e+00\n 9.090e+00 1.500e+01 1.500e+01 1.250e+00 2.700e+00 2.500e+00 3.000e+00\n 0.000e+00 5.000e+00 1.700e+01 3.000e+00 0.000e+00 5.000e+00 1.000e+01\n 4.000e+00 0.000e+00 3.000e+00 8.040e+01 0.000e+00 0.000e+00 0.000e+00\n 4.050e+00 0.000e+00 0.000e+00 2.070e+01 8.000e+00 4.000e+00 1.300e+01\n 0.000e+00 0.000e+00 3.500e+00 1.700e+01 0.000e+00 2.000e+00 1.065e+01\n 0.000e+00 3.500e+05 5.500e+00 0.000e+00 4.000e+00 3.000e+00 3.590e+00\n 7.500e+00 0.000e+00 0.000e+00 0.000e+00 5.000e+05 0.000e+00 2.050e+01\n 0.000e+00 1.190e+01 3.600e+00 0.000e+00 2.000e+01 3.500e+00 5.500e+00\n 0.000e+00 0.000e+00 7.000e+00 5.000e+05 0.000e+00 2.000e+00 3.590e+00\n 1.000e+00 2.000e+01 4.000e+00 3.000e+00 1.500e+01 4.000e+00 1.300e+01\n 8.500e+00 0.000e+00 8.300e+00 1.000e+00 0.000e+00 0.000e+00 3.700e+00\n 3.450e+00 1.635e+01 0.000e+00 1.700e+01 0.000e+00 6.000e+00 0.000e+00\n 0.000e+00 0.000e+00 4.200e+00 1.800e+01 0.000e+00 3.600e+00 3.800e+00\n 2.300e+01 2.450e+00 5.000e+05 0.000e+00 7.400e+00 0.000e+00 2.000e+00].\nReshape your data either using array.reshape(-1, 1) if your data has a single feature or array.reshape(1, -1) if it contains a single sample.",
          "output_type": "error",
          "traceback": [
            "\u001b[1;31m---------------------------------------------------------------------------\u001b[0m",
            "\u001b[1;31mValueError\u001b[0m                                Traceback (most recent call last)",
            "Cell \u001b[1;32mIn[25], line 9\u001b[0m\n\u001b[0;32m      7\u001b[0m X_train_scaled \u001b[38;5;241m=\u001b[39m scaler\u001b[38;5;241m.\u001b[39mfit_transform(X_train)\n\u001b[0;32m      8\u001b[0m X_test_scaled \u001b[38;5;241m=\u001b[39m scaler\u001b[38;5;241m.\u001b[39mtransform(X_test)\n\u001b[1;32m----> 9\u001b[0m y_train_scaled\u001b[38;5;241m=\u001b[39m\u001b[43mscaler\u001b[49m\u001b[38;5;241;43m.\u001b[39;49m\u001b[43mtransform\u001b[49m\u001b[43m(\u001b[49m\u001b[43my_train\u001b[49m\u001b[43m)\u001b[49m\n\u001b[0;32m     10\u001b[0m y_test_scaled\u001b[38;5;241m=\u001b[39mscaler\u001b[38;5;241m.\u001b[39mtransform(y_test)\n\u001b[0;32m     11\u001b[0m alphas \u001b[38;5;241m=\u001b[39m [\u001b[38;5;241m0.001\u001b[39m, \u001b[38;5;241m0.01\u001b[39m, \u001b[38;5;241m0.1\u001b[39m, \u001b[38;5;241m1\u001b[39m, \u001b[38;5;241m10\u001b[39m, \u001b[38;5;241m100\u001b[39m]\n",
            "File \u001b[1;32mc:\\Users\\Lenovo\\Desktop\\pandas\\Lib\\site-packages\\sklearn\\utils\\_set_output.py:157\u001b[0m, in \u001b[0;36m_wrap_method_output.<locals>.wrapped\u001b[1;34m(self, X, *args, **kwargs)\u001b[0m\n\u001b[0;32m    155\u001b[0m \u001b[38;5;129m@wraps\u001b[39m(f)\n\u001b[0;32m    156\u001b[0m \u001b[38;5;28;01mdef\u001b[39;00m \u001b[38;5;21mwrapped\u001b[39m(\u001b[38;5;28mself\u001b[39m, X, \u001b[38;5;241m*\u001b[39margs, \u001b[38;5;241m*\u001b[39m\u001b[38;5;241m*\u001b[39mkwargs):\n\u001b[1;32m--> 157\u001b[0m     data_to_wrap \u001b[38;5;241m=\u001b[39m \u001b[43mf\u001b[49m\u001b[43m(\u001b[49m\u001b[38;5;28;43mself\u001b[39;49m\u001b[43m,\u001b[49m\u001b[43m \u001b[49m\u001b[43mX\u001b[49m\u001b[43m,\u001b[49m\u001b[43m \u001b[49m\u001b[38;5;241;43m*\u001b[39;49m\u001b[43margs\u001b[49m\u001b[43m,\u001b[49m\u001b[43m \u001b[49m\u001b[38;5;241;43m*\u001b[39;49m\u001b[38;5;241;43m*\u001b[39;49m\u001b[43mkwargs\u001b[49m\u001b[43m)\u001b[49m\n\u001b[0;32m    158\u001b[0m     \u001b[38;5;28;01mif\u001b[39;00m \u001b[38;5;28misinstance\u001b[39m(data_to_wrap, \u001b[38;5;28mtuple\u001b[39m):\n\u001b[0;32m    159\u001b[0m         \u001b[38;5;66;03m# only wrap the first output for cross decomposition\u001b[39;00m\n\u001b[0;32m    160\u001b[0m         return_tuple \u001b[38;5;241m=\u001b[39m (\n\u001b[0;32m    161\u001b[0m             _wrap_data_with_container(method, data_to_wrap[\u001b[38;5;241m0\u001b[39m], X, \u001b[38;5;28mself\u001b[39m),\n\u001b[0;32m    162\u001b[0m             \u001b[38;5;241m*\u001b[39mdata_to_wrap[\u001b[38;5;241m1\u001b[39m:],\n\u001b[0;32m    163\u001b[0m         )\n",
            "File \u001b[1;32mc:\\Users\\Lenovo\\Desktop\\pandas\\Lib\\site-packages\\sklearn\\preprocessing\\_data.py:1006\u001b[0m, in \u001b[0;36mStandardScaler.transform\u001b[1;34m(self, X, copy)\u001b[0m\n\u001b[0;32m   1003\u001b[0m check_is_fitted(\u001b[38;5;28mself\u001b[39m)\n\u001b[0;32m   1005\u001b[0m copy \u001b[38;5;241m=\u001b[39m copy \u001b[38;5;28;01mif\u001b[39;00m copy \u001b[38;5;129;01mis\u001b[39;00m \u001b[38;5;129;01mnot\u001b[39;00m \u001b[38;5;28;01mNone\u001b[39;00m \u001b[38;5;28;01melse\u001b[39;00m \u001b[38;5;28mself\u001b[39m\u001b[38;5;241m.\u001b[39mcopy\n\u001b[1;32m-> 1006\u001b[0m X \u001b[38;5;241m=\u001b[39m \u001b[38;5;28;43mself\u001b[39;49m\u001b[38;5;241;43m.\u001b[39;49m\u001b[43m_validate_data\u001b[49m\u001b[43m(\u001b[49m\n\u001b[0;32m   1007\u001b[0m \u001b[43m    \u001b[49m\u001b[43mX\u001b[49m\u001b[43m,\u001b[49m\n\u001b[0;32m   1008\u001b[0m \u001b[43m    \u001b[49m\u001b[43mreset\u001b[49m\u001b[38;5;241;43m=\u001b[39;49m\u001b[38;5;28;43;01mFalse\u001b[39;49;00m\u001b[43m,\u001b[49m\n\u001b[0;32m   1009\u001b[0m \u001b[43m    \u001b[49m\u001b[43maccept_sparse\u001b[49m\u001b[38;5;241;43m=\u001b[39;49m\u001b[38;5;124;43m\"\u001b[39;49m\u001b[38;5;124;43mcsr\u001b[39;49m\u001b[38;5;124;43m\"\u001b[39;49m\u001b[43m,\u001b[49m\n\u001b[0;32m   1010\u001b[0m \u001b[43m    \u001b[49m\u001b[43mcopy\u001b[49m\u001b[38;5;241;43m=\u001b[39;49m\u001b[43mcopy\u001b[49m\u001b[43m,\u001b[49m\n\u001b[0;32m   1011\u001b[0m \u001b[43m    \u001b[49m\u001b[43mdtype\u001b[49m\u001b[38;5;241;43m=\u001b[39;49m\u001b[43mFLOAT_DTYPES\u001b[49m\u001b[43m,\u001b[49m\n\u001b[0;32m   1012\u001b[0m \u001b[43m    \u001b[49m\u001b[43mforce_all_finite\u001b[49m\u001b[38;5;241;43m=\u001b[39;49m\u001b[38;5;124;43m\"\u001b[39;49m\u001b[38;5;124;43mallow-nan\u001b[39;49m\u001b[38;5;124;43m\"\u001b[39;49m\u001b[43m,\u001b[49m\n\u001b[0;32m   1013\u001b[0m \u001b[43m\u001b[49m\u001b[43m)\u001b[49m\n\u001b[0;32m   1015\u001b[0m \u001b[38;5;28;01mif\u001b[39;00m sparse\u001b[38;5;241m.\u001b[39missparse(X):\n\u001b[0;32m   1016\u001b[0m     \u001b[38;5;28;01mif\u001b[39;00m \u001b[38;5;28mself\u001b[39m\u001b[38;5;241m.\u001b[39mwith_mean:\n",
            "File \u001b[1;32mc:\\Users\\Lenovo\\Desktop\\pandas\\Lib\\site-packages\\sklearn\\base.py:605\u001b[0m, in \u001b[0;36mBaseEstimator._validate_data\u001b[1;34m(self, X, y, reset, validate_separately, cast_to_ndarray, **check_params)\u001b[0m\n\u001b[0;32m    603\u001b[0m         out \u001b[38;5;241m=\u001b[39m X, y\n\u001b[0;32m    604\u001b[0m \u001b[38;5;28;01melif\u001b[39;00m \u001b[38;5;129;01mnot\u001b[39;00m no_val_X \u001b[38;5;129;01mand\u001b[39;00m no_val_y:\n\u001b[1;32m--> 605\u001b[0m     out \u001b[38;5;241m=\u001b[39m \u001b[43mcheck_array\u001b[49m\u001b[43m(\u001b[49m\u001b[43mX\u001b[49m\u001b[43m,\u001b[49m\u001b[43m \u001b[49m\u001b[43minput_name\u001b[49m\u001b[38;5;241;43m=\u001b[39;49m\u001b[38;5;124;43m\"\u001b[39;49m\u001b[38;5;124;43mX\u001b[39;49m\u001b[38;5;124;43m\"\u001b[39;49m\u001b[43m,\u001b[49m\u001b[43m \u001b[49m\u001b[38;5;241;43m*\u001b[39;49m\u001b[38;5;241;43m*\u001b[39;49m\u001b[43mcheck_params\u001b[49m\u001b[43m)\u001b[49m\n\u001b[0;32m    606\u001b[0m \u001b[38;5;28;01melif\u001b[39;00m no_val_X \u001b[38;5;129;01mand\u001b[39;00m \u001b[38;5;129;01mnot\u001b[39;00m no_val_y:\n\u001b[0;32m    607\u001b[0m     out \u001b[38;5;241m=\u001b[39m _check_y(y, \u001b[38;5;241m*\u001b[39m\u001b[38;5;241m*\u001b[39mcheck_params)\n",
            "File \u001b[1;32mc:\\Users\\Lenovo\\Desktop\\pandas\\Lib\\site-packages\\sklearn\\utils\\validation.py:938\u001b[0m, in \u001b[0;36mcheck_array\u001b[1;34m(array, accept_sparse, accept_large_sparse, dtype, order, copy, force_all_finite, ensure_2d, allow_nd, ensure_min_samples, ensure_min_features, estimator, input_name)\u001b[0m\n\u001b[0;32m    936\u001b[0m     \u001b[38;5;66;03m# If input is 1D raise error\u001b[39;00m\n\u001b[0;32m    937\u001b[0m     \u001b[38;5;28;01mif\u001b[39;00m array\u001b[38;5;241m.\u001b[39mndim \u001b[38;5;241m==\u001b[39m \u001b[38;5;241m1\u001b[39m:\n\u001b[1;32m--> 938\u001b[0m         \u001b[38;5;28;01mraise\u001b[39;00m \u001b[38;5;167;01mValueError\u001b[39;00m(\n\u001b[0;32m    939\u001b[0m             \u001b[38;5;124m\"\u001b[39m\u001b[38;5;124mExpected 2D array, got 1D array instead:\u001b[39m\u001b[38;5;130;01m\\n\u001b[39;00m\u001b[38;5;124marray=\u001b[39m\u001b[38;5;132;01m{}\u001b[39;00m\u001b[38;5;124m.\u001b[39m\u001b[38;5;130;01m\\n\u001b[39;00m\u001b[38;5;124m\"\u001b[39m\n\u001b[0;32m    940\u001b[0m             \u001b[38;5;124m\"\u001b[39m\u001b[38;5;124mReshape your data either using array.reshape(-1, 1) if \u001b[39m\u001b[38;5;124m\"\u001b[39m\n\u001b[0;32m    941\u001b[0m             \u001b[38;5;124m\"\u001b[39m\u001b[38;5;124myour data has a single feature or array.reshape(1, -1) \u001b[39m\u001b[38;5;124m\"\u001b[39m\n\u001b[0;32m    942\u001b[0m             \u001b[38;5;124m\"\u001b[39m\u001b[38;5;124mif it contains a single sample.\u001b[39m\u001b[38;5;124m\"\u001b[39m\u001b[38;5;241m.\u001b[39mformat(array)\n\u001b[0;32m    943\u001b[0m         )\n\u001b[0;32m    945\u001b[0m \u001b[38;5;28;01mif\u001b[39;00m dtype_numeric \u001b[38;5;129;01mand\u001b[39;00m \u001b[38;5;28mhasattr\u001b[39m(array\u001b[38;5;241m.\u001b[39mdtype, \u001b[38;5;124m\"\u001b[39m\u001b[38;5;124mkind\u001b[39m\u001b[38;5;124m\"\u001b[39m) \u001b[38;5;129;01mand\u001b[39;00m array\u001b[38;5;241m.\u001b[39mdtype\u001b[38;5;241m.\u001b[39mkind \u001b[38;5;129;01min\u001b[39;00m \u001b[38;5;124m\"\u001b[39m\u001b[38;5;124mUSV\u001b[39m\u001b[38;5;124m\"\u001b[39m:\n\u001b[0;32m    946\u001b[0m     \u001b[38;5;28;01mraise\u001b[39;00m \u001b[38;5;167;01mValueError\u001b[39;00m(\n\u001b[0;32m    947\u001b[0m         \u001b[38;5;124m\"\u001b[39m\u001b[38;5;124mdtype=\u001b[39m\u001b[38;5;124m'\u001b[39m\u001b[38;5;124mnumeric\u001b[39m\u001b[38;5;124m'\u001b[39m\u001b[38;5;124m is not compatible with arrays of bytes/strings.\u001b[39m\u001b[38;5;124m\"\u001b[39m\n\u001b[0;32m    948\u001b[0m         \u001b[38;5;124m\"\u001b[39m\u001b[38;5;124mConvert your data to numeric values explicitly instead.\u001b[39m\u001b[38;5;124m\"\u001b[39m\n\u001b[0;32m    949\u001b[0m     )\n",
            "\u001b[1;31mValueError\u001b[0m: Expected 2D array, got 1D array instead:\narray=[7.860e+00 0.000e+00 0.000e+00 9.500e+00 0.000e+00 3.200e+00 1.000e+00\n 3.500e+00 9.000e+00 4.200e+00 0.000e+00 0.000e+00 1.040e+01 3.500e+00\n 5.500e+00 5.100e+00 0.000e+00 0.000e+00 0.000e+00 1.560e+00 0.000e+00\n 7.100e+00 0.000e+00 8.900e+05 2.500e+00 5.620e+01 9.000e+00 0.000e+00\n 0.000e+00 0.000e+00 0.000e+00 3.850e+00 0.000e+00 2.500e+00 2.200e+01\n 3.460e+00 2.000e+00 4.500e+00 2.600e+00 5.500e+00 4.000e+00 3.000e+00\n 0.000e+00 2.000e+01 0.000e+00 6.530e+01 1.500e+00 1.780e+01 4.400e+00\n 1.500e+01 2.500e+00 8.000e+00 5.100e+05 1.000e+00 0.000e+00 5.800e+01\n 4.000e+05 2.000e+00 0.000e+00 0.000e+00 3.500e+00 0.000e+00 2.000e+00\n 0.000e+00 9.000e+00 5.000e+00 2.500e+01 0.000e+00 1.000e+00 1.200e+01\n 1.500e+00 9.500e+01 3.000e+00 1.300e+01 6.000e+00 3.500e+00 2.600e+01\n 5.000e+00 0.000e+00 3.500e+00 0.000e+00 1.000e+01 1.200e+01 0.000e+00\n 0.000e+00 0.000e+00 0.000e+00 1.800e+01 0.000e+00 0.000e+00 1.400e+00\n 3.200e+00 3.000e+00 0.000e+00 3.500e+01 4.000e+00 2.000e+00 0.000e+00\n 2.500e+00 0.000e+00 0.000e+00 0.000e+00 8.500e+00 5.500e+00 0.000e+00\n 2.430e+01 2.500e+00 2.500e+00 3.500e+00 7.000e+00 1.360e+05 4.800e+00\n 1.500e+01 0.000e+00 0.000e+00 0.000e+00 0.000e+00 1.000e+05 0.000e+00\n 4.000e+00 0.000e+00 9.300e+00 1.245e+01 0.000e+00 3.100e+01 0.000e+00\n 0.000e+00 1.200e+01 7.100e+00 0.000e+00 0.000e+00 0.000e+00 5.000e+00\n 0.000e+00 0.000e+00 0.000e+00 6.000e+00 0.000e+00 7.000e+00 3.600e+00\n 0.000e+00 0.000e+00 0.000e+00 0.000e+00 1.400e+01 1.900e+01 0.000e+00\n 0.000e+00 0.000e+00 0.000e+00 1.480e+01 6.200e+00 3.120e+00 4.200e+05\n 8.020e+00 1.500e+01 1.500e+00 9.200e+00 1.530e+00 2.620e+00 3.000e+00\n 2.000e+01 0.000e+00 1.530e+01 3.500e+00 3.650e+00 0.000e+00 0.000e+00\n 1.500e+00 0.000e+00 1.540e+01 4.000e+00 2.920e+01 1.800e+01 3.850e+00\n 1.700e+01 0.000e+00 7.000e+00 0.000e+00 0.000e+00 0.000e+00 3.500e+00\n 4.000e+00 0.000e+00 0.000e+00 0.000e+00 6.000e+00 1.800e+01 0.000e+00\n 0.000e+00 1.000e+00 5.000e+05 0.000e+00 1.400e+01 1.000e+00 5.000e+05\n 4.900e+05 2.000e+00 2.960e+00 2.600e+00 2.500e+00 3.000e+00 4.000e+00\n 0.000e+00 9.000e+00 5.000e+00 0.000e+00 2.700e+00 0.000e+00 2.000e+01\n 0.000e+00 8.500e+00 2.740e+01 2.000e+00 0.000e+00 0.000e+00 5.000e+00\n 3.000e+00 0.000e+00 1.850e+01 1.470e+01 0.000e+00 0.000e+00 3.000e+01\n 3.000e+00 0.000e+00 0.000e+00 0.000e+00 0.000e+00 0.000e+00 1.000e+00\n 5.680e+00 4.600e+00 1.034e+01 2.000e+00 4.360e+01 1.000e+00 0.000e+00\n 3.000e+00 1.200e+01 4.000e+00 0.000e+00 0.000e+00 3.700e+01 1.200e+01\n 0.000e+00 0.000e+00 6.700e+01 0.000e+00 3.350e+00 5.230e+00 0.000e+00\n 3.125e+01 1.285e+01 2.000e+00 0.000e+00 0.000e+00 5.900e+00 1.425e+01\n 3.000e+00 5.000e+00 1.000e+00 1.200e+00 0.000e+00 1.500e+00 5.250e+00\n 1.750e+01 6.000e+05 0.000e+00 0.000e+00 6.000e+00 3.000e+00 0.000e+00\n 1.200e+01 1.890e+00 0.000e+00 5.000e+00 8.000e+00 1.000e+00 1.250e+01\n 0.000e+00 1.500e+00 3.000e+00 5.000e+00 0.000e+00 0.000e+00 8.200e+00\n 7.500e+00 3.000e+00 3.500e+01 9.100e+00 3.700e+00 3.000e+00 2.850e+01\n 0.000e+00 4.000e+00 3.284e+01 6.700e+00 4.000e+00 9.500e+00 3.000e+00\n 0.000e+00 1.000e+00 5.000e+00 1.500e+00 1.800e+00 0.000e+00 9.400e+00\n 0.000e+00 5.000e+01 1.000e+01 8.500e+00 0.000e+00 0.000e+00 1.500e+00\n 4.000e+00 0.000e+00 9.400e+00 0.000e+00 0.000e+00 2.000e+00 0.000e+00\n 0.000e+00 1.150e+01 2.000e+00 0.000e+00 0.000e+00 6.500e+00 0.000e+00\n 0.000e+00 5.000e+00 3.650e+01 3.000e+05 4.550e+00 6.000e+00 8.500e+00\n 5.000e+05 0.000e+00 0.000e+00 7.000e+00 3.300e+00 0.000e+00 1.300e+01\n 6.000e+00 3.900e+00 6.000e+00 5.000e+00 1.750e+00 0.000e+00 0.000e+00\n 6.000e+00 1.000e+00 1.015e+01 3.200e+00 2.550e+00 0.000e+00 5.750e+00\n 0.000e+00 0.000e+00 0.000e+00 4.500e+00 0.000e+00 0.000e+00 4.500e+00\n 2.000e+01 2.900e+00 2.800e+01 0.000e+00 0.000e+00 0.000e+00 6.000e+00\n 7.000e+00 0.000e+00 0.000e+00 1.900e+00 0.000e+00 3.800e+01 0.000e+00\n 4.000e+05 0.000e+00 1.000e+00 1.000e+01 1.300e+01 1.050e+01 2.500e+00\n 5.000e+00 5.800e+00 9.000e+00 0.000e+00 1.000e+01 3.000e+00 4.500e+00\n 9.090e+00 1.500e+01 1.500e+01 1.250e+00 2.700e+00 2.500e+00 3.000e+00\n 0.000e+00 5.000e+00 1.700e+01 3.000e+00 0.000e+00 5.000e+00 1.000e+01\n 4.000e+00 0.000e+00 3.000e+00 8.040e+01 0.000e+00 0.000e+00 0.000e+00\n 4.050e+00 0.000e+00 0.000e+00 2.070e+01 8.000e+00 4.000e+00 1.300e+01\n 0.000e+00 0.000e+00 3.500e+00 1.700e+01 0.000e+00 2.000e+00 1.065e+01\n 0.000e+00 3.500e+05 5.500e+00 0.000e+00 4.000e+00 3.000e+00 3.590e+00\n 7.500e+00 0.000e+00 0.000e+00 0.000e+00 5.000e+05 0.000e+00 2.050e+01\n 0.000e+00 1.190e+01 3.600e+00 0.000e+00 2.000e+01 3.500e+00 5.500e+00\n 0.000e+00 0.000e+00 7.000e+00 5.000e+05 0.000e+00 2.000e+00 3.590e+00\n 1.000e+00 2.000e+01 4.000e+00 3.000e+00 1.500e+01 4.000e+00 1.300e+01\n 8.500e+00 0.000e+00 8.300e+00 1.000e+00 0.000e+00 0.000e+00 3.700e+00\n 3.450e+00 1.635e+01 0.000e+00 1.700e+01 0.000e+00 6.000e+00 0.000e+00\n 0.000e+00 0.000e+00 4.200e+00 1.800e+01 0.000e+00 3.600e+00 3.800e+00\n 2.300e+01 2.450e+00 5.000e+05 0.000e+00 7.400e+00 0.000e+00 2.000e+00].\nReshape your data either using array.reshape(-1, 1) if your data has a single feature or array.reshape(1, -1) if it contains a single sample."
          ]
        }
      ],
      "source": [
        "X = df_encoded.drop([\"fee\", \"name\"], axis=1)\n",
        "pca = PCA(n_components=10)\n",
        "X_pca = pca.fit_transform(X)\n",
        "y = df_encoded[\"fee\"]\n",
        "X_train, X_test, y_train, y_test = train_test_split(X, y, test_size=0.2, random_state=12)\n",
        "scaler = StandardScaler()\n",
        "X_train_scaled = scaler.fit_transform(X_train)\n",
        "X_test_scaled = scaler.transform(X_test)\n",
        "y_train_scaled=scaler.transform(y_train)\n",
        "y_test_scaled=scaler.transform(y_test)\n",
        "alphas = [0.001, 0.01, 0.1, 1, 10, 100]\n",
        "reg = Ridge()\n",
        "param_grid = {'alpha': alphas}\n",
        "grid_search = GridSearchCV(reg, param_grid, cv=5, scoring='neg_mean_squared_error')\n",
        "grid_search.fit(X_train_scaled, y_train_scaled)\n",
        "best_reg = grid_search.best_estimator_\n",
        "y_pred = best_reg.predict(X_test_scaled)\n",
        "mse = mean_squared_error(y_test_scaled, y_pred)\n",
        "mae = mean_absolute_error(y_test_scaled, y_pred)\n",
        "print(\"Mean Squared Error:\", mse)\n",
        "print(\"Mean Absolute Error:\", mae)\n",
        "print(\"Best alpha found:\", best_reg.alpha)"
      ]
    },
    {
      "cell_type": "code",
      "execution_count": 24,
      "metadata": {
        "colab": {
          "base_uri": "https://localhost:8080/"
        },
        "id": "AQ3rLMP5h-Kt",
        "outputId": "d80c1678-bae8-43e3-add6-0c09c5542aa5"
      },
      "outputs": [
        {
          "name": "stdout",
          "output_type": "stream",
          "text": [
            "Mean Squared Error: 5391943303.57895\n",
            "Mean Absolute Error: 26789.70051269288\n",
            "Best alpha found: 16461.37386394155\n"
          ]
        }
      ],
      "source": [
        "\n",
        "X = df_encoded.drop([\"fee\", \"name\"], axis=1)\n",
        "y = df_encoded[\"fee\"]\n",
        "\n",
        "\n",
        "X_train, X_test, y_train, y_test = train_test_split(X, y, test_size=0.2, random_state=1937)\n",
        "\n",
        "\n",
        "scaler = StandardScaler()\n",
        "X_train_scaled = scaler.fit_transform(X_train)\n",
        "X_test_scaled = scaler.transform(X_test)\n",
        "\n",
        "\n",
        "lasso = LassoCV(cv=5, max_iter=10000)\n",
        "lasso.fit(X_train_scaled, y_train)\n",
        "\n",
        "\n",
        "y_pred = lasso.predict(X_test_scaled)\n",
        "\n",
        "\n",
        "mse = mean_squared_error(y_test, y_pred)\n",
        "mae = mean_absolute_error(y_test, y_pred)\n",
        "print(\"Mean Squared Error:\", mse)\n",
        "print(\"Mean Absolute Error:\", mae)\n",
        "print(\"Best alpha found:\", lasso.alpha_)"
      ]
    }
  ],
  "metadata": {
    "colab": {
      "provenance": []
    },
    "kernelspec": {
      "display_name": "Python 3",
      "language": "python",
      "name": "python3"
    },
    "language_info": {
      "codemirror_mode": {
        "name": "ipython",
        "version": 3
      },
      "file_extension": ".py",
      "mimetype": "text/x-python",
      "name": "python",
      "nbconvert_exporter": "python",
      "pygments_lexer": "ipython3",
      "version": "3.12.1"
    }
  },
  "nbformat": 4,
  "nbformat_minor": 0
}
